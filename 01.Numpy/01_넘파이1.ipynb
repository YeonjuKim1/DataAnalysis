{
  "nbformat": 4,
  "nbformat_minor": 0,
  "metadata": {
    "colab": {
      "name": "01_넘파이1.ipynb",
      "provenance": [],
      "collapsed_sections": []
    },
    "kernelspec": {
      "name": "python3",
      "display_name": "Python 3"
    },
    "language_info": {
      "name": "python"
    }
  },
  "cells": [
    {
      "cell_type": "markdown",
      "metadata": {
        "id": "IRuji81g7qIs"
      },
      "source": [
        "# Numerical Python(Numpy) - Part 1"
      ]
    },
    {
      "cell_type": "code",
      "metadata": {
        "id": "UHMXnSCt7Pk9"
      },
      "source": [
        "# de facto standard (사실상의 표준)\n",
        "import numpy as np"
      ],
      "execution_count": 2,
      "outputs": []
    },
    {
      "cell_type": "code",
      "metadata": {
        "colab": {
          "base_uri": "https://localhost:8080/"
        },
        "id": "0bRd3wGdAJJR",
        "outputId": "758d9b1a-a471-4eb7-8c52-52b7d5c8e3c5"
      },
      "source": [
        "a = [1, 2, 3]\n",
        "a * 3"
      ],
      "execution_count": 3,
      "outputs": [
        {
          "output_type": "execute_result",
          "data": {
            "text/plain": [
              "[1, 2, 3, 1, 2, 3, 1, 2, 3]"
            ]
          },
          "metadata": {
            "tags": []
          },
          "execution_count": 3
        }
      ]
    },
    {
      "cell_type": "code",
      "metadata": {
        "colab": {
          "base_uri": "https://localhost:8080/"
        },
        "id": "U_P2OCJ7ApWx",
        "outputId": "ce9a62d4-c2dc-4819-c87e-99b827b73df6"
      },
      "source": [
        "list(map(lambda x: 3*x, a))"
      ],
      "execution_count": 4,
      "outputs": [
        {
          "output_type": "execute_result",
          "data": {
            "text/plain": [
              "[3, 6, 9]"
            ]
          },
          "metadata": {
            "tags": []
          },
          "execution_count": 4
        }
      ]
    },
    {
      "cell_type": "code",
      "metadata": {
        "colab": {
          "base_uri": "https://localhost:8080/"
        },
        "id": "MEWuhq7MAsrk",
        "outputId": "a3dcc60a-c390-4b48-b2a3-a299c18811d8"
      },
      "source": [
        "b = np.array([1,2,3])\n",
        "b * 3"
      ],
      "execution_count": 5,
      "outputs": [
        {
          "output_type": "execute_result",
          "data": {
            "text/plain": [
              "array([3, 6, 9])"
            ]
          },
          "metadata": {
            "tags": []
          },
          "execution_count": 5
        }
      ]
    },
    {
      "cell_type": "markdown",
      "metadata": {
        "id": "Z1puI_mpDMXT"
      },
      "source": [
        "- numpy python cheat\n",
        "- pandas cheat sheet"
      ]
    },
    {
      "cell_type": "markdown",
      "metadata": {
        "id": "LLY3dIaRDh69"
      },
      "source": [
        "## 1. Numpy Dimension array"
      ]
    },
    {
      "cell_type": "code",
      "metadata": {
        "colab": {
          "base_uri": "https://localhost:8080/"
        },
        "id": "ERduqkbcAvz8",
        "outputId": "fb1d256e-1eb5-4030-f366-d3a7baf6dddf"
      },
      "source": [
        "a = np.array([1, 4, 5, 8], float)\n",
        "a"
      ],
      "execution_count": 9,
      "outputs": [
        {
          "output_type": "execute_result",
          "data": {
            "text/plain": [
              "array([1., 4., 5., 8.])"
            ]
          },
          "metadata": {
            "tags": []
          },
          "execution_count": 9
        }
      ]
    },
    {
      "cell_type": "code",
      "metadata": {
        "colab": {
          "base_uri": "https://localhost:8080/"
        },
        "id": "r3FEquX0Du-q",
        "outputId": "e9708b9c-c9c3-4be7-cf34-cc9dddbf93b8"
      },
      "source": [
        "type(a)"
      ],
      "execution_count": 10,
      "outputs": [
        {
          "output_type": "execute_result",
          "data": {
            "text/plain": [
              "numpy.ndarray"
            ]
          },
          "metadata": {
            "tags": []
          },
          "execution_count": 10
        }
      ]
    },
    {
      "cell_type": "code",
      "metadata": {
        "colab": {
          "base_uri": "https://localhost:8080/"
        },
        "id": "_0PSeagKD2X7",
        "outputId": "420bb3cf-3ea5-4f9d-85bf-d4cbf09a023f"
      },
      "source": [
        "a.dtype, a.shape"
      ],
      "execution_count": 11,
      "outputs": [
        {
          "output_type": "execute_result",
          "data": {
            "text/plain": [
              "(dtype('float64'), (4,))"
            ]
          },
          "metadata": {
            "tags": []
          },
          "execution_count": 11
        }
      ]
    },
    {
      "cell_type": "markdown",
      "metadata": {
        "id": "QwOOxcROFNOS"
      },
      "source": [
        "## Array shape"
      ]
    },
    {
      "cell_type": "code",
      "metadata": {
        "colab": {
          "base_uri": "https://localhost:8080/"
        },
        "id": "qO6Y_D8qEdIg",
        "outputId": "46ba21f5-d098-41f0-9a02-f7a5d36445e0"
      },
      "source": [
        "# Ventor(1차원 데이터)\n",
        "vector = np.array([1,4,5,8])\n",
        "vector.shape"
      ],
      "execution_count": 13,
      "outputs": [
        {
          "output_type": "execute_result",
          "data": {
            "text/plain": [
              "(4,)"
            ]
          },
          "metadata": {
            "tags": []
          },
          "execution_count": 13
        }
      ]
    },
    {
      "cell_type": "code",
      "metadata": {
        "colab": {
          "base_uri": "https://localhost:8080/"
        },
        "id": "Csd0tQkFF3Qp",
        "outputId": "2a8ed372-1124-4bed-b45c-49266905b098"
      },
      "source": [
        "# Matrix(2차원)\n",
        "matrix = np.array([[1,2,3], [4,5,6]])\n",
        "print(matrix.shape)\n",
        "print(matrix)"
      ],
      "execution_count": 14,
      "outputs": [
        {
          "output_type": "stream",
          "text": [
            "(2, 3)\n",
            "[[1 2 3]\n",
            " [4 5 6]]\n"
          ],
          "name": "stdout"
        }
      ]
    },
    {
      "cell_type": "code",
      "metadata": {
        "colab": {
          "base_uri": "https://localhost:8080/"
        },
        "id": "NROQIJpjGCpC",
        "outputId": "486c43e9-22c0-4492-e428-4b553a288cda"
      },
      "source": [
        "# Tensor(3차원 이상)\n",
        "# tensor = np.array([[[],[]],[[],[]])\n",
        "tensor = np.arange(1,25).reshape(2,3,4)\n",
        "print(tensor)"
      ],
      "execution_count": 16,
      "outputs": [
        {
          "output_type": "stream",
          "text": [
            "[[[ 1  2  3  4]\n",
            "  [ 5  6  7  8]\n",
            "  [ 9 10 11 12]]\n",
            "\n",
            " [[13 14 15 16]\n",
            "  [17 18 19 20]\n",
            "  [21 22 23 24]]]\n"
          ],
          "name": "stdout"
        }
      ]
    },
    {
      "cell_type": "code",
      "metadata": {
        "colab": {
          "base_uri": "https://localhost:8080/"
        },
        "id": "tzwse4YVGeCY",
        "outputId": "3da8b29b-a0ff-4d46-f3ae-87047d417975"
      },
      "source": [
        "vector.shape, matrix.shape, tensor.shape"
      ],
      "execution_count": 18,
      "outputs": [
        {
          "output_type": "execute_result",
          "data": {
            "text/plain": [
              "((4,), (2, 3), (2, 3, 4))"
            ]
          },
          "metadata": {
            "tags": []
          },
          "execution_count": 18
        }
      ]
    },
    {
      "cell_type": "code",
      "metadata": {
        "colab": {
          "base_uri": "https://localhost:8080/"
        },
        "id": "RL3jV77XGwWp",
        "outputId": "381224c3-4e03-4475-d666-7a960d7797c2"
      },
      "source": [
        "# element의 갯수\n",
        "vector.size, matrix.size, tensor.size"
      ],
      "execution_count": 20,
      "outputs": [
        {
          "output_type": "execute_result",
          "data": {
            "text/plain": [
              "(4, 6, 24)"
            ]
          },
          "metadata": {
            "tags": []
          },
          "execution_count": 20
        }
      ]
    },
    {
      "cell_type": "code",
      "metadata": {
        "colab": {
          "base_uri": "https://localhost:8080/"
        },
        "id": "qm6--uAkHPK_",
        "outputId": "7d51597b-91c1-4a69-d602-dc236cb9dbf2"
      },
      "source": [
        "# data type\n",
        "# float32: 32bit로 표시 - single precision\n",
        "# float64: 64bit로 표시 - double precision\n",
        "a = np.array([1,2,3], np.float32)\n",
        "a"
      ],
      "execution_count": 22,
      "outputs": [
        {
          "output_type": "execute_result",
          "data": {
            "text/plain": [
              "array([1., 2., 3.], dtype=float32)"
            ]
          },
          "metadata": {
            "tags": []
          },
          "execution_count": 22
        }
      ]
    },
    {
      "cell_type": "code",
      "metadata": {
        "colab": {
          "base_uri": "https://localhost:8080/"
        },
        "id": "SjDpA1PlH8dS",
        "outputId": "c61f7f0d-5371-40b1-a11c-09e936e6dd74"
      },
      "source": [
        "b = np.array([1,2,3], dtype=np.int16)\n",
        "b"
      ],
      "execution_count": 25,
      "outputs": [
        {
          "output_type": "execute_result",
          "data": {
            "text/plain": [
              "array([1, 2, 3], dtype=int16)"
            ]
          },
          "metadata": {
            "tags": []
          },
          "execution_count": 25
        }
      ]
    },
    {
      "cell_type": "markdown",
      "metadata": {
        "id": "Fs6PQiTwIoPi"
      },
      "source": [
        "### reshape"
      ]
    },
    {
      "cell_type": "code",
      "metadata": {
        "colab": {
          "base_uri": "https://localhost:8080/"
        },
        "id": "STEMa_qyIRfj",
        "outputId": "e5edb0f6-02ac-49a8-8c43-3d19c8eb3e79"
      },
      "source": [
        "matrix.shape"
      ],
      "execution_count": 26,
      "outputs": [
        {
          "output_type": "execute_result",
          "data": {
            "text/plain": [
              "(2, 3)"
            ]
          },
          "metadata": {
            "tags": []
          },
          "execution_count": 26
        }
      ]
    },
    {
      "cell_type": "code",
      "metadata": {
        "colab": {
          "base_uri": "https://localhost:8080/"
        },
        "id": "6S8l25A8IyZ7",
        "outputId": "95556540-9dcc-432b-dcef-687b042ed30b"
      },
      "source": [
        "matrix.reshape(6,) # 튜플 표현으로 넣어 줘야 함."
      ],
      "execution_count": 27,
      "outputs": [
        {
          "output_type": "execute_result",
          "data": {
            "text/plain": [
              "array([1, 2, 3, 4, 5, 6])"
            ]
          },
          "metadata": {
            "tags": []
          },
          "execution_count": 27
        }
      ]
    },
    {
      "cell_type": "code",
      "metadata": {
        "colab": {
          "base_uri": "https://localhost:8080/"
        },
        "id": "Xk4FZ02aI8NP",
        "outputId": "fef6fa7e-5c69-4855-f51d-77216a83774c"
      },
      "source": [
        "matrix.reshape(3,2)"
      ],
      "execution_count": 28,
      "outputs": [
        {
          "output_type": "execute_result",
          "data": {
            "text/plain": [
              "array([[1, 2],\n",
              "       [3, 4],\n",
              "       [5, 6]])"
            ]
          },
          "metadata": {
            "tags": []
          },
          "execution_count": 28
        }
      ]
    },
    {
      "cell_type": "code",
      "metadata": {
        "colab": {
          "base_uri": "https://localhost:8080/"
        },
        "id": "YCt5MT0eJArG",
        "outputId": "42d52126-9e82-46a0-8aba-aa250d344d4a"
      },
      "source": [
        "# -1은 numpy가 알아서 맞춰줌(단, size가 동일)\n",
        "matrix.reshape(-1,)"
      ],
      "execution_count": 30,
      "outputs": [
        {
          "output_type": "execute_result",
          "data": {
            "text/plain": [
              "array([1, 2, 3, 4, 5, 6])"
            ]
          },
          "metadata": {
            "tags": []
          },
          "execution_count": 30
        }
      ]
    },
    {
      "cell_type": "code",
      "metadata": {
        "colab": {
          "base_uri": "https://localhost:8080/"
        },
        "id": "xdm7AYaDJbYo",
        "outputId": "65377420-e74e-4d10-ed36-f09160667ca2"
      },
      "source": [
        "matrix.reshape(3, -1)"
      ],
      "execution_count": 31,
      "outputs": [
        {
          "output_type": "execute_result",
          "data": {
            "text/plain": [
              "array([[1, 2],\n",
              "       [3, 4],\n",
              "       [5, 6]])"
            ]
          },
          "metadata": {
            "tags": []
          },
          "execution_count": 31
        }
      ]
    },
    {
      "cell_type": "code",
      "metadata": {
        "colab": {
          "base_uri": "https://localhost:8080/"
        },
        "id": "gJrftp31KC1M",
        "outputId": "7c4a4b46-9452-475a-8622-693b2802e86c"
      },
      "source": [
        "matrix.reshape(3, -1).shape"
      ],
      "execution_count": 32,
      "outputs": [
        {
          "output_type": "execute_result",
          "data": {
            "text/plain": [
              "(3, 2)"
            ]
          },
          "metadata": {
            "tags": []
          },
          "execution_count": 32
        }
      ]
    },
    {
      "cell_type": "code",
      "metadata": {
        "colab": {
          "base_uri": "https://localhost:8080/"
        },
        "id": "AdUpzzMsKHUU",
        "outputId": "5c710ce3-9944-4cad-f699-1307c505c71d"
      },
      "source": [
        "tensor.reshape(4,-1).shape"
      ],
      "execution_count": 34,
      "outputs": [
        {
          "output_type": "execute_result",
          "data": {
            "text/plain": [
              "(4, 6)"
            ]
          },
          "metadata": {
            "tags": []
          },
          "execution_count": 34
        }
      ]
    },
    {
      "cell_type": "code",
      "metadata": {
        "colab": {
          "base_uri": "https://localhost:8080/"
        },
        "id": "5XEmEf_nKYc1",
        "outputId": "644d9161-b7ba-45a4-cf95-54f413b4c857"
      },
      "source": [
        "matrix.reshape(-1,)"
      ],
      "execution_count": 35,
      "outputs": [
        {
          "output_type": "execute_result",
          "data": {
            "text/plain": [
              "array([1, 2, 3, 4, 5, 6])"
            ]
          },
          "metadata": {
            "tags": []
          },
          "execution_count": 35
        }
      ]
    },
    {
      "cell_type": "code",
      "metadata": {
        "colab": {
          "base_uri": "https://localhost:8080/"
        },
        "id": "yIxwYts4NHkB",
        "outputId": "361d2e64-b41a-4b1a-8903-ad0edda3d41f"
      },
      "source": [
        "matrix.reshape(1,-1)"
      ],
      "execution_count": 36,
      "outputs": [
        {
          "output_type": "execute_result",
          "data": {
            "text/plain": [
              "array([[1, 2, 3, 4, 5, 6]])"
            ]
          },
          "metadata": {
            "tags": []
          },
          "execution_count": 36
        }
      ]
    },
    {
      "cell_type": "code",
      "metadata": {
        "colab": {
          "base_uri": "https://localhost:8080/"
        },
        "id": "OYRxvTpLNJmJ",
        "outputId": "6b8cff2b-0e9c-4c0f-af7c-774b0e6899b1"
      },
      "source": [
        "matrix.reshape(-1,1)"
      ],
      "execution_count": 37,
      "outputs": [
        {
          "output_type": "execute_result",
          "data": {
            "text/plain": [
              "array([[1],\n",
              "       [2],\n",
              "       [3],\n",
              "       [4],\n",
              "       [5],\n",
              "       [6]])"
            ]
          },
          "metadata": {
            "tags": []
          },
          "execution_count": 37
        }
      ]
    },
    {
      "cell_type": "markdown",
      "metadata": {
        "id": "UYL0rXYLOBrO"
      },
      "source": [
        "### flatten"
      ]
    },
    {
      "cell_type": "code",
      "metadata": {
        "colab": {
          "base_uri": "https://localhost:8080/"
        },
        "id": "JCnLlsWGNLTD",
        "outputId": "743b853d-04a3-4695-9f3f-ad20aaa60d94"
      },
      "source": [
        "tensor.reshape(-1,)"
      ],
      "execution_count": 44,
      "outputs": [
        {
          "output_type": "execute_result",
          "data": {
            "text/plain": [
              "array([ 1,  2,  3,  4,  5,  6,  7,  8,  9, 10, 11, 12, 13, 14, 15, 16, 17,\n",
              "       18, 19, 20, 21, 22, 23, 24])"
            ]
          },
          "metadata": {
            "tags": []
          },
          "execution_count": 44
        }
      ]
    },
    {
      "cell_type": "code",
      "metadata": {
        "colab": {
          "base_uri": "https://localhost:8080/"
        },
        "id": "nH5FLMJ5OFjf",
        "outputId": "e5d466c7-8d6b-4ef4-d8a6-29789010671a"
      },
      "source": [
        "tensor.flatten()"
      ],
      "execution_count": 40,
      "outputs": [
        {
          "output_type": "execute_result",
          "data": {
            "text/plain": [
              "array([ 1,  2,  3,  4,  5,  6,  7,  8,  9, 10, 11, 12, 13, 14, 15, 16, 17,\n",
              "       18, 19, 20, 21, 22, 23, 24])"
            ]
          },
          "metadata": {
            "tags": []
          },
          "execution_count": 40
        }
      ]
    },
    {
      "cell_type": "markdown",
      "metadata": {
        "id": "os9t358YQn1N"
      },
      "source": [
        "## 3. Indexing & Slicing"
      ]
    },
    {
      "cell_type": "code",
      "metadata": {
        "colab": {
          "base_uri": "https://localhost:8080/"
        },
        "id": "Lkecglv8OKcC",
        "outputId": "d19e9a9a-9098-4ca1-d083-90a6e601bbcf"
      },
      "source": [
        "matrix"
      ],
      "execution_count": 42,
      "outputs": [
        {
          "output_type": "execute_result",
          "data": {
            "text/plain": [
              "array([[1, 2, 3],\n",
              "       [4, 5, 6]])"
            ]
          },
          "metadata": {
            "tags": []
          },
          "execution_count": 42
        }
      ]
    },
    {
      "cell_type": "code",
      "metadata": {
        "colab": {
          "base_uri": "https://localhost:8080/"
        },
        "id": "o3yxvW80QySP",
        "outputId": "4133bb85-d92d-44a4-a4fb-2551e8c87485"
      },
      "source": [
        "matrix[0][1]"
      ],
      "execution_count": 43,
      "outputs": [
        {
          "output_type": "execute_result",
          "data": {
            "text/plain": [
              "2"
            ]
          },
          "metadata": {
            "tags": []
          },
          "execution_count": 43
        }
      ]
    },
    {
      "cell_type": "code",
      "metadata": {
        "colab": {
          "base_uri": "https://localhost:8080/"
        },
        "id": "XE6zjgfgQ9F1",
        "outputId": "5d179273-3f99-4bd6-ad93-3862c40b3c0f"
      },
      "source": [
        "matrix[0,1]"
      ],
      "execution_count": 45,
      "outputs": [
        {
          "output_type": "execute_result",
          "data": {
            "text/plain": [
              "2"
            ]
          },
          "metadata": {
            "tags": []
          },
          "execution_count": 45
        }
      ]
    },
    {
      "cell_type": "code",
      "metadata": {
        "colab": {
          "base_uri": "https://localhost:8080/"
        },
        "id": "vTlwEGFeRhWz",
        "outputId": "f5b2d6c6-4828-48e4-85d8-786b4370700b"
      },
      "source": [
        "tensor[1,1,2]"
      ],
      "execution_count": 46,
      "outputs": [
        {
          "output_type": "execute_result",
          "data": {
            "text/plain": [
              "19"
            ]
          },
          "metadata": {
            "tags": []
          },
          "execution_count": 46
        }
      ]
    },
    {
      "cell_type": "markdown",
      "metadata": {
        "id": "jaIc1KNwRmmZ"
      },
      "source": [
        "### slicing"
      ]
    },
    {
      "cell_type": "code",
      "metadata": {
        "colab": {
          "base_uri": "https://localhost:8080/"
        },
        "id": "5CzOlvUqRi_h",
        "outputId": "88b6be60-d62d-4069-df3f-7a31618e92b8"
      },
      "source": [
        "b = np.arange(16).reshape(4,-1)\n",
        "b"
      ],
      "execution_count": 47,
      "outputs": [
        {
          "output_type": "execute_result",
          "data": {
            "text/plain": [
              "array([[ 0,  1,  2,  3],\n",
              "       [ 4,  5,  6,  7],\n",
              "       [ 8,  9, 10, 11],\n",
              "       [12, 13, 14, 15]])"
            ]
          },
          "metadata": {
            "tags": []
          },
          "execution_count": 47
        }
      ]
    },
    {
      "cell_type": "code",
      "metadata": {
        "colab": {
          "base_uri": "https://localhost:8080/"
        },
        "id": "fNDM9DD4RuV1",
        "outputId": "afb095e8-6133-44a1-87f9-eea62691fa3c"
      },
      "source": [
        "# 5, 6, 9, 10\n",
        "b[1:3, 1:3]"
      ],
      "execution_count": 48,
      "outputs": [
        {
          "output_type": "execute_result",
          "data": {
            "text/plain": [
              "array([[ 5,  6],\n",
              "       [ 9, 10]])"
            ]
          },
          "metadata": {
            "tags": []
          },
          "execution_count": 48
        }
      ]
    },
    {
      "cell_type": "code",
      "metadata": {
        "colab": {
          "base_uri": "https://localhost:8080/"
        },
        "id": "CRYgEoS1SFR6",
        "outputId": "ddc496f3-eabb-45f4-dab8-eeab21dc5875"
      },
      "source": [
        "# 5,6,7, 9,10,11\n",
        "b[1:3, 1:]"
      ],
      "execution_count": 49,
      "outputs": [
        {
          "output_type": "execute_result",
          "data": {
            "text/plain": [
              "array([[ 5,  6,  7],\n",
              "       [ 9, 10, 11]])"
            ]
          },
          "metadata": {
            "tags": []
          },
          "execution_count": 49
        }
      ]
    },
    {
      "cell_type": "code",
      "metadata": {
        "colab": {
          "base_uri": "https://localhost:8080/"
        },
        "id": "__tTvfcOSXdt",
        "outputId": "942f32b7-ae9c-45f7-92a5-172b142a4fc4"
      },
      "source": [
        "# 1,3,9,11\n",
        "b[::2, 1::2]"
      ],
      "execution_count": 51,
      "outputs": [
        {
          "output_type": "execute_result",
          "data": {
            "text/plain": [
              "array([[ 1,  3],\n",
              "       [ 9, 11]])"
            ]
          },
          "metadata": {
            "tags": []
          },
          "execution_count": 51
        }
      ]
    },
    {
      "cell_type": "code",
      "metadata": {
        "colab": {
          "base_uri": "https://localhost:8080/"
        },
        "id": "Kb1rlhAmSoKy",
        "outputId": "8728f735-c6c9-44a7-b0bd-2d27417420ee"
      },
      "source": [
        "# X는 앞에 3열, y는 마지막 열\n",
        "X, y = b[:, :-1], b[:, -1]\n",
        "X.shape, y.shape"
      ],
      "execution_count": 52,
      "outputs": [
        {
          "output_type": "execute_result",
          "data": {
            "text/plain": [
              "((4, 3), (4,))"
            ]
          },
          "metadata": {
            "tags": []
          },
          "execution_count": 52
        }
      ]
    }
  ]
}