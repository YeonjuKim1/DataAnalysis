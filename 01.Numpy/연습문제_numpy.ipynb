{
  "nbformat": 4,
  "nbformat_minor": 0,
  "metadata": {
    "colab": {
      "name": "연습문제_numpy.ipynb",
      "provenance": [],
      "collapsed_sections": []
    },
    "kernelspec": {
      "name": "python3",
      "display_name": "Python 3"
    },
    "language_info": {
      "name": "python"
    }
  },
  "cells": [
    {
      "cell_type": "markdown",
      "metadata": {
        "id": "GtEgKCC4lE_3"
      },
      "source": [
        "# 연습문제 - numpy"
      ]
    },
    {
      "cell_type": "code",
      "metadata": {
        "id": "CxYwpeoNk8Tq"
      },
      "source": [
        "import numpy as np"
      ],
      "execution_count": 3,
      "outputs": []
    },
    {
      "cell_type": "markdown",
      "metadata": {
        "id": "4wNKj2oKlKpd"
      },
      "source": [
        "### 1. 행렬 만들기\n",
        "\n",
        "넘파이를 사용하여 다음과 같은 행렬을 만드시오.\n",
        "- 10 20 30 40\n",
        "- 50 60 70 80"
      ]
    },
    {
      "cell_type": "code",
      "metadata": {
        "colab": {
          "base_uri": "https://localhost:8080/"
        },
        "id": "vtldHi2WlJUC",
        "outputId": "26397e0e-507d-47ba-b1cc-e8ff7a23534c"
      },
      "source": [
        "np.arange(1,9).reshape(2,4) * 10"
      ],
      "execution_count": 2,
      "outputs": [
        {
          "output_type": "execute_result",
          "data": {
            "text/plain": [
              "array([[10, 20, 30, 40],\n",
              "       [50, 60, 70, 80]])"
            ]
          },
          "metadata": {
            "tags": []
          },
          "execution_count": 2
        }
      ]
    },
    {
      "cell_type": "markdown",
      "metadata": {
        "id": "V1RTP54qlSld"
      },
      "source": [
        "### 2. 인덱싱, 슬라이싱\n",
        "다음 행렬과 같은 행렬이 있다.\n",
        "\n",
        "m = np.array([[ 0, 1, 2, 3, 4],\n",
        "                [ 5, 6, 7, 8, 9],\n",
        "                [10, 11, 12, 13, 14]])\n",
        "\n"
      ]
    },
    {
      "cell_type": "code",
      "metadata": {
        "id": "ES41CyhLlPBw"
      },
      "source": [
        "m = np.arange(15).reshape(3,5)"
      ],
      "execution_count": 3,
      "outputs": []
    },
    {
      "cell_type": "code",
      "metadata": {
        "colab": {
          "base_uri": "https://localhost:8080/"
        },
        "id": "q7-EybHPlarT",
        "outputId": "b234c701-9633-4df9-830a-e877b272fd8b"
      },
      "source": [
        "# 2-1 이 행렬에서 값 7 을 인덱싱한다.\n",
        "# 2-2 이 행렬에서 값 14 을 인덱싱한다.\n",
        "m[1,2], m[-1,-1]"
      ],
      "execution_count": 4,
      "outputs": [
        {
          "output_type": "execute_result",
          "data": {
            "text/plain": [
              "(7, 14)"
            ]
          },
          "metadata": {
            "tags": []
          },
          "execution_count": 4
        }
      ]
    },
    {
      "cell_type": "code",
      "metadata": {
        "colab": {
          "base_uri": "https://localhost:8080/"
        },
        "id": "IAcPAn0VlkxP",
        "outputId": "f8581a6b-5b59-4543-fb9e-0d5ad269560d"
      },
      "source": [
        "# 2-3 이 행렬에서 배열 [6, 7] 을 슬라이싱한다.\n",
        "m[1, 1:3]"
      ],
      "execution_count": 5,
      "outputs": [
        {
          "output_type": "execute_result",
          "data": {
            "text/plain": [
              "array([6, 7])"
            ]
          },
          "metadata": {
            "tags": []
          },
          "execution_count": 5
        }
      ]
    },
    {
      "cell_type": "code",
      "metadata": {
        "colab": {
          "base_uri": "https://localhost:8080/"
        },
        "id": "1-zgfsGvmFuV",
        "outputId": "da8217c9-afc4-4ecf-9a7b-1e940d5d94ff"
      },
      "source": [
        "# 2-4 이 행렬에서 배열 [7, 12] 을 슬라이싱한다.\n",
        "m[1:,2]"
      ],
      "execution_count": 6,
      "outputs": [
        {
          "output_type": "execute_result",
          "data": {
            "text/plain": [
              "array([ 7, 12])"
            ]
          },
          "metadata": {
            "tags": []
          },
          "execution_count": 6
        }
      ]
    },
    {
      "cell_type": "code",
      "metadata": {
        "colab": {
          "base_uri": "https://localhost:8080/"
        },
        "id": "5unZhKSkmIHP",
        "outputId": "49413106-3751-47a9-f264-8bc60b179ae9"
      },
      "source": [
        "# 2-5 이 행렬에서 배열 [[3, 4], [8, 9]] 을 슬라이싱한다.\n",
        "m[:2, 3:]"
      ],
      "execution_count": 7,
      "outputs": [
        {
          "output_type": "execute_result",
          "data": {
            "text/plain": [
              "array([[3, 4],\n",
              "       [8, 9]])"
            ]
          },
          "metadata": {
            "tags": []
          },
          "execution_count": 7
        }
      ]
    },
    {
      "cell_type": "markdown",
      "metadata": {
        "id": "rqBB9HlLmNHz"
      },
      "source": [
        "### 3. Boolean Indexing \n",
        "2번의 행렬 m을 1차원 벡터 f 로 변환한 후 다음의 문제를 푸시오.\n"
      ]
    },
    {
      "cell_type": "code",
      "metadata": {
        "id": "h8ppZ_NPmLoy"
      },
      "source": [
        "f = m.flatten()"
      ],
      "execution_count": 8,
      "outputs": []
    },
    {
      "cell_type": "code",
      "metadata": {
        "colab": {
          "base_uri": "https://localhost:8080/"
        },
        "id": "thQ5AHgPmQ0Z",
        "outputId": "f36da9e3-7bbd-4d9f-c03f-c0e255d11568"
      },
      "source": [
        "# 3-1 이 배열에서 3의 배수를 찾아라.\n",
        "f[f % 3 == 0]"
      ],
      "execution_count": 9,
      "outputs": [
        {
          "output_type": "execute_result",
          "data": {
            "text/plain": [
              "array([ 0,  3,  6,  9, 12])"
            ]
          },
          "metadata": {
            "tags": []
          },
          "execution_count": 9
        }
      ]
    },
    {
      "cell_type": "code",
      "metadata": {
        "colab": {
          "base_uri": "https://localhost:8080/"
        },
        "id": "hWySDIsrmUiW",
        "outputId": "8b78f2f2-a872-4f19-ccff-93b32d87d39f"
      },
      "source": [
        "# 3-2 이 배열에서 4로 나누면 1이 남는 수를 찾아라.\n",
        "f[f % 4 == 1]"
      ],
      "execution_count": 10,
      "outputs": [
        {
          "output_type": "execute_result",
          "data": {
            "text/plain": [
              "array([ 1,  5,  9, 13])"
            ]
          },
          "metadata": {
            "tags": []
          },
          "execution_count": 10
        }
      ]
    },
    {
      "cell_type": "code",
      "metadata": {
        "colab": {
          "base_uri": "https://localhost:8080/"
        },
        "id": "9etqR6t8mcFZ",
        "outputId": "b0705a37-aa22-4a66-c770-e9ff934a85e5"
      },
      "source": [
        "# 3-3 이 배열에서 3으로 나누면 나누어지고 4로 나누면 1이 남는 수를 찾아라.\n",
        "f[np.logical_and(f%3==0, f%4==1)]"
      ],
      "execution_count": 11,
      "outputs": [
        {
          "output_type": "execute_result",
          "data": {
            "text/plain": [
              "array([9])"
            ]
          },
          "metadata": {
            "tags": []
          },
          "execution_count": 11
        }
      ]
    },
    {
      "cell_type": "markdown",
      "metadata": {
        "id": "E5Mmn7Xlmw9D"
      },
      "source": [
        "### 4.eye로 행렬 만들기\n",
        "값을 직접 입력하지 말고 우측의 행렬을 만드시오."
      ]
    },
    {
      "cell_type": "code",
      "metadata": {
        "colab": {
          "base_uri": "https://localhost:8080/"
        },
        "id": "SitgfetVmv5s",
        "outputId": "0cf482c2-78a1-43cb-86f3-ca81e7e15bb3"
      },
      "source": [
        "np.eye(5,5,k=-1)*3 + np.eye(5,5)*2 + np.eye(5,5,k=1)"
      ],
      "execution_count": 12,
      "outputs": [
        {
          "output_type": "execute_result",
          "data": {
            "text/plain": [
              "array([[2., 1., 0., 0., 0.],\n",
              "       [3., 2., 1., 0., 0.],\n",
              "       [0., 3., 2., 1., 0.],\n",
              "       [0., 0., 3., 2., 1.],\n",
              "       [0., 0., 0., 3., 2.]])"
            ]
          },
          "metadata": {
            "tags": []
          },
          "execution_count": 12
        }
      ]
    },
    {
      "cell_type": "markdown",
      "metadata": {
        "id": "kXZCKneAm-B8"
      },
      "source": [
        "### 5.Matrix operation\n",
        "0에서 10까지 랜덤 실수값으로 이루어진 5 x 6 형태의 데이터 행렬을 만들고 이 데이터에 대해 다음과 같은 값을 구하시오."
      ]
    },
    {
      "cell_type": "code",
      "metadata": {
        "colab": {
          "base_uri": "https://localhost:8080/"
        },
        "id": "HU5Ziz7sm6of",
        "outputId": "538f47b3-7747-463b-c07a-018877fe6def"
      },
      "source": [
        "np.random.seed(2021)\n",
        "m = np.random.uniform(0,10,30).reshape(5,6).round(4)\n",
        "m"
      ],
      "execution_count": 4,
      "outputs": [
        {
          "output_type": "execute_result",
          "data": {
            "text/plain": [
              "array([[6.0598, 7.3337, 1.3895, 3.1267, 9.9724, 1.2816],\n",
              "       [1.7899, 7.5293, 6.6216, 7.8431, 0.9689, 0.5857],\n",
              "       [9.624 , 6.1656, 0.8663, 5.6127, 6.1652, 9.6384],\n",
              "       [5.743 , 3.7116, 4.5215, 2.0185, 5.6931, 1.951 ],\n",
              "       [5.837 , 4.7631, 5.1781, 8.231 , 7.3223, 0.6906]])"
            ]
          },
          "metadata": {
            "tags": []
          },
          "execution_count": 4
        }
      ]
    },
    {
      "cell_type": "code",
      "metadata": {
        "colab": {
          "base_uri": "https://localhost:8080/"
        },
        "id": "5M2J-VOonT6z",
        "outputId": "fa68fb00-1be2-4ad9-c7ae-e886639f23a9"
      },
      "source": [
        "# 5-1 전체의 최댓값\n",
        "np.max(m)"
      ],
      "execution_count": 5,
      "outputs": [
        {
          "output_type": "execute_result",
          "data": {
            "text/plain": [
              "9.9724"
            ]
          },
          "metadata": {
            "tags": []
          },
          "execution_count": 5
        }
      ]
    },
    {
      "cell_type": "code",
      "metadata": {
        "colab": {
          "base_uri": "https://localhost:8080/"
        },
        "id": "dps5_dGKnl3e",
        "outputId": "716cc746-bcf3-45cf-ea41-801f4cef8fc7"
      },
      "source": [
        "# 5-2 각 행의 합\n",
        "np.sum(m, axis=1)"
      ],
      "execution_count": 6,
      "outputs": [
        {
          "output_type": "execute_result",
          "data": {
            "text/plain": [
              "array([29.1637, 25.3385, 38.0722, 23.6387, 32.0221])"
            ]
          },
          "metadata": {
            "tags": []
          },
          "execution_count": 6
        }
      ]
    },
    {
      "cell_type": "code",
      "metadata": {
        "colab": {
          "base_uri": "https://localhost:8080/"
        },
        "id": "UsmycOAsnrLX",
        "outputId": "08422c64-649c-45dd-9e6a-ca2cb04f887f"
      },
      "source": [
        "# 5-3 각 행의 최댓값\n",
        "np.max(m, axis=1)"
      ],
      "execution_count": 17,
      "outputs": [
        {
          "output_type": "execute_result",
          "data": {
            "text/plain": [
              "array([9.9724, 7.8431, 9.6384, 5.743 , 8.231 ])"
            ]
          },
          "metadata": {
            "tags": []
          },
          "execution_count": 17
        }
      ]
    },
    {
      "cell_type": "code",
      "metadata": {
        "colab": {
          "base_uri": "https://localhost:8080/"
        },
        "id": "yZoo6Dmin0Ov",
        "outputId": "e8b8202b-f7e3-4fcb-bffa-ad7fc16305e9"
      },
      "source": [
        "# 5-4 각 열의 평균\n",
        "np.mean(m, axis=0)"
      ],
      "execution_count": 18,
      "outputs": [
        {
          "output_type": "execute_result",
          "data": {
            "text/plain": [
              "array([5.81074, 5.90066, 3.7154 , 5.3664 , 6.02438, 2.82946])"
            ]
          },
          "metadata": {
            "tags": []
          },
          "execution_count": 18
        }
      ]
    },
    {
      "cell_type": "code",
      "metadata": {
        "colab": {
          "base_uri": "https://localhost:8080/"
        },
        "id": "jYVvo-5Bn6qn",
        "outputId": "635f66a3-7dcb-48e7-9a52-9710b918a685"
      },
      "source": [
        "# 5-5 각 열의 최소값\n",
        "np.min(m, axis=0)"
      ],
      "execution_count": 19,
      "outputs": [
        {
          "output_type": "execute_result",
          "data": {
            "text/plain": [
              "array([1.7899, 3.7116, 0.8663, 2.0185, 0.9689, 0.5857])"
            ]
          },
          "metadata": {
            "tags": []
          },
          "execution_count": 19
        }
      ]
    },
    {
      "cell_type": "markdown",
      "metadata": {
        "id": "zMfXw8Y1oAa8"
      },
      "source": [
        "### 6. Sorting\n",
        "다음 배열은 첫번째 행(row)에 학번, 두번째 행에 영어 성적, 세번째 행에 수학 성적을 적은 배열이다. 영어 성적을 기준으로 각 열(column)을 재정렬하시오."
      ]
    },
    {
      "cell_type": "code",
      "metadata": {
        "colab": {
          "base_uri": "https://localhost:8080/"
        },
        "id": "AVBn-o-en-wr",
        "outputId": "5cb7ad81-e162-4dae-cd81-974de7eece9d"
      },
      "source": [
        "score = np.array([[1,2,3,4], [46,99,100,71], [81,59,90,100]])\n",
        "score"
      ],
      "execution_count": 8,
      "outputs": [
        {
          "output_type": "execute_result",
          "data": {
            "text/plain": [
              "array([[  1,   2,   3,   4],\n",
              "       [ 46,  99, 100,  71],\n",
              "       [ 81,  59,  90, 100]])"
            ]
          },
          "metadata": {
            "tags": []
          },
          "execution_count": 8
        }
      ]
    },
    {
      "cell_type": "code",
      "metadata": {
        "colab": {
          "base_uri": "https://localhost:8080/"
        },
        "id": "tDDSwA1TomQ0",
        "outputId": "3e96457d-f767-42eb-d9b2-aae47e6d072f"
      },
      "source": [
        "np.sort(score)"
      ],
      "execution_count": 9,
      "outputs": [
        {
          "output_type": "execute_result",
          "data": {
            "text/plain": [
              "array([[  1,   2,   3,   4],\n",
              "       [ 46,  71,  99, 100],\n",
              "       [ 59,  81,  90, 100]])"
            ]
          },
          "metadata": {
            "tags": []
          },
          "execution_count": 9
        }
      ]
    },
    {
      "cell_type": "code",
      "metadata": {
        "colab": {
          "base_uri": "https://localhost:8080/"
        },
        "id": "4s9C4w8BonzB",
        "outputId": "1d80a93d-d5c2-4ba4-f4cc-69b30988cf42"
      },
      "source": [
        "s = np.argsort(score[1])\n",
        "s"
      ],
      "execution_count": 10,
      "outputs": [
        {
          "output_type": "execute_result",
          "data": {
            "text/plain": [
              "array([0, 3, 1, 2])"
            ]
          },
          "metadata": {
            "tags": []
          },
          "execution_count": 10
        }
      ]
    },
    {
      "cell_type": "code",
      "metadata": {
        "colab": {
          "base_uri": "https://localhost:8080/"
        },
        "id": "xEADgGRMox23",
        "outputId": "22bcd8f6-5591-495e-eea0-47c5f32930e7"
      },
      "source": [
        "# 내림차순\n",
        "s[::-1]"
      ],
      "execution_count": 11,
      "outputs": [
        {
          "output_type": "execute_result",
          "data": {
            "text/plain": [
              "array([2, 1, 3, 0])"
            ]
          },
          "metadata": {
            "tags": []
          },
          "execution_count": 11
        }
      ]
    },
    {
      "cell_type": "code",
      "metadata": {
        "colab": {
          "base_uri": "https://localhost:8080/"
        },
        "id": "TtGyVfTao115",
        "outputId": "91b83ebe-9228-4ecd-e6f7-d02ff407ec82"
      },
      "source": [
        "score[:, s[::-1]]"
      ],
      "execution_count": 12,
      "outputs": [
        {
          "output_type": "execute_result",
          "data": {
            "text/plain": [
              "array([[  3,   2,   4,   1],\n",
              "       [100,  99,  71,  46],\n",
              "       [ 90,  59, 100,  81]])"
            ]
          },
          "metadata": {
            "tags": []
          },
          "execution_count": 12
        }
      ]
    },
    {
      "cell_type": "code",
      "metadata": {
        "colab": {
          "base_uri": "https://localhost:8080/"
        },
        "id": "2ye3g0Jgo7uI",
        "outputId": "1a1881ec-4b57-4c5c-8ed4-cbbe48089e86"
      },
      "source": [
        "# 한 줄로\n",
        "score[:, np.argsort(score[1])[::-1]]"
      ],
      "execution_count": 13,
      "outputs": [
        {
          "output_type": "execute_result",
          "data": {
            "text/plain": [
              "array([[  3,   2,   4,   1],\n",
              "       [100,  99,  71,  46],\n",
              "       [ 90,  59, 100,  81]])"
            ]
          },
          "metadata": {
            "tags": []
          },
          "execution_count": 13
        }
      ]
    },
    {
      "cell_type": "markdown",
      "metadata": {
        "id": "8uIGq_sW6HeF"
      },
      "source": [
        "### 7. 주사위 100번\n",
        "주사위를 100번 던지는 가상 실험을 파이썬으로 작성하고, \n",
        "던져서 나오는 숫자의 평균을 구하시오."
      ]
    },
    {
      "cell_type": "code",
      "metadata": {
        "colab": {
          "base_uri": "https://localhost:8080/"
        },
        "id": "Mm1NNFWv6BwN",
        "outputId": "86c1f2db-27f9-48c9-ddb9-d43fde3776f9"
      },
      "source": [
        "np.random.seed(2021)\n",
        "dice = np.random.randint(1,7,100)\n",
        "dice"
      ],
      "execution_count": 14,
      "outputs": [
        {
          "output_type": "execute_result",
          "data": {
            "text/plain": [
              "array([5, 6, 2, 1, 6, 5, 4, 6, 6, 6, 1, 5, 2, 6, 2, 2, 5, 6, 3, 3, 1, 4,\n",
              "       2, 1, 3, 4, 5, 6, 1, 6, 2, 3, 6, 2, 6, 2, 3, 3, 5, 6, 3, 4, 2, 3,\n",
              "       3, 1, 3, 5, 6, 4, 4, 2, 2, 2, 3, 6, 4, 4, 5, 4, 2, 5, 2, 2, 5, 4,\n",
              "       6, 4, 4, 4, 3, 2, 4, 3, 6, 3, 3, 1, 5, 4, 2, 4, 2, 5, 3, 4, 2, 3,\n",
              "       6, 3, 6, 3, 4, 5, 6, 2, 2, 6, 1, 6])"
            ]
          },
          "metadata": {
            "tags": []
          },
          "execution_count": 14
        }
      ]
    },
    {
      "cell_type": "code",
      "metadata": {
        "colab": {
          "base_uri": "https://localhost:8080/"
        },
        "id": "uIogq1CO6UBl",
        "outputId": "f0824554-79d5-4eec-f98a-5604ff7d8601"
      },
      "source": [
        "np.mean(dice)"
      ],
      "execution_count": 15,
      "outputs": [
        {
          "output_type": "execute_result",
          "data": {
            "text/plain": [
              "3.7"
            ]
          },
          "metadata": {
            "tags": []
          },
          "execution_count": 15
        }
      ]
    },
    {
      "cell_type": "code",
      "metadata": {
        "id": "alNv9brO6YHF"
      },
      "source": [
        ""
      ],
      "execution_count": null,
      "outputs": []
    }
  ]
}