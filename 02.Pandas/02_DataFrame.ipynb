{
  "nbformat": 4,
  "nbformat_minor": 0,
  "metadata": {
    "colab": {
      "name": "02_DataFrame.ipynb",
      "provenance": [],
      "collapsed_sections": []
    },
    "kernelspec": {
      "name": "python3",
      "display_name": "Python 3"
    },
    "language_info": {
      "name": "python"
    }
  },
  "cells": [
    {
      "cell_type": "markdown",
      "metadata": {
        "id": "ReDhI5F_5mfg"
      },
      "source": [
        "# DataFrame class"
      ]
    },
    {
      "cell_type": "markdown",
      "metadata": {
        "id": "RFCPi13hIcKh"
      },
      "source": [
        "https://datascienceschool.net/01%20python/04.01%20%ED%8C%90%EB%8B%A4%EC%8A%A4%20%ED%8C%A8%ED%82%A4%EC%A7%80%EC%9D%98%20%EC%86%8C%EA%B0%9C.html"
      ]
    },
    {
      "cell_type": "code",
      "metadata": {
        "id": "Hs2jkv3f5b1v"
      },
      "source": [
        "import numpy as np\n",
        "import pandas as pd"
      ],
      "execution_count": 1,
      "outputs": []
    },
    {
      "cell_type": "markdown",
      "metadata": {
        "id": "TmuLSCl19F-n"
      },
      "source": [
        "### 생성"
      ]
    },
    {
      "cell_type": "code",
      "metadata": {
        "colab": {
          "base_uri": "https://localhost:8080/",
          "height": 172
        },
        "id": "M69NC6qH50eJ",
        "outputId": "b7222619-2075-43e1-8437-8909b7165794"
      },
      "source": [
        "data = {\n",
        "    \"2015\": [9904312, 3448737, 2890451, 2466052],\n",
        "    \"2010\": [9631482, 3393191, 2632035, 2431774],\n",
        "    \"2005\": [9762546, 3512547, 2517680, 2456016],\n",
        "    \"2000\": [9853972, 3655437, 2466338, 2473990],\n",
        "    \"지역\": [\"수도권\", \"경상권\", \"수도권\", \"경상권\"],\n",
        "    \"2010-2015 증가율\": [0.0283, 0.0163, 0.0982, 0.0141]\n",
        "}\n",
        "columns = [\"지역\", \"2015\", \"2010\", \"2005\", \"2000\", \"2010-2015 증가율\"]\n",
        "index = [\"서울\", \"부산\", \"인천\", \"대구\"]\n",
        "df = pd.DataFrame(data, index=index, columns=columns)\n",
        "df"
      ],
      "execution_count": 9,
      "outputs": [
        {
          "output_type": "execute_result",
          "data": {
            "text/html": [
              "<div>\n",
              "<style scoped>\n",
              "    .dataframe tbody tr th:only-of-type {\n",
              "        vertical-align: middle;\n",
              "    }\n",
              "\n",
              "    .dataframe tbody tr th {\n",
              "        vertical-align: top;\n",
              "    }\n",
              "\n",
              "    .dataframe thead th {\n",
              "        text-align: right;\n",
              "    }\n",
              "</style>\n",
              "<table border=\"1\" class=\"dataframe\">\n",
              "  <thead>\n",
              "    <tr style=\"text-align: right;\">\n",
              "      <th></th>\n",
              "      <th>지역</th>\n",
              "      <th>2015</th>\n",
              "      <th>2010</th>\n",
              "      <th>2005</th>\n",
              "      <th>2000</th>\n",
              "      <th>2010-2015 증가율</th>\n",
              "    </tr>\n",
              "  </thead>\n",
              "  <tbody>\n",
              "    <tr>\n",
              "      <th>서울</th>\n",
              "      <td>수도권</td>\n",
              "      <td>9904312</td>\n",
              "      <td>9631482</td>\n",
              "      <td>9762546</td>\n",
              "      <td>9853972</td>\n",
              "      <td>0.0283</td>\n",
              "    </tr>\n",
              "    <tr>\n",
              "      <th>부산</th>\n",
              "      <td>경상권</td>\n",
              "      <td>3448737</td>\n",
              "      <td>3393191</td>\n",
              "      <td>3512547</td>\n",
              "      <td>3655437</td>\n",
              "      <td>0.0163</td>\n",
              "    </tr>\n",
              "    <tr>\n",
              "      <th>인천</th>\n",
              "      <td>수도권</td>\n",
              "      <td>2890451</td>\n",
              "      <td>2632035</td>\n",
              "      <td>2517680</td>\n",
              "      <td>2466338</td>\n",
              "      <td>0.0982</td>\n",
              "    </tr>\n",
              "    <tr>\n",
              "      <th>대구</th>\n",
              "      <td>경상권</td>\n",
              "      <td>2466052</td>\n",
              "      <td>2431774</td>\n",
              "      <td>2456016</td>\n",
              "      <td>2473990</td>\n",
              "      <td>0.0141</td>\n",
              "    </tr>\n",
              "  </tbody>\n",
              "</table>\n",
              "</div>"
            ],
            "text/plain": [
              "     지역     2015     2010     2005     2000  2010-2015 증가율\n",
              "서울  수도권  9904312  9631482  9762546  9853972         0.0283\n",
              "부산  경상권  3448737  3393191  3512547  3655437         0.0163\n",
              "인천  수도권  2890451  2632035  2517680  2466338         0.0982\n",
              "대구  경상권  2466052  2431774  2456016  2473990         0.0141"
            ]
          },
          "metadata": {
            "tags": []
          },
          "execution_count": 9
        }
      ]
    },
    {
      "cell_type": "code",
      "metadata": {
        "colab": {
          "base_uri": "https://localhost:8080/",
          "height": 172
        },
        "id": "tdY664Z792pZ",
        "outputId": "ea72558c-53bd-498a-9246-6249498ab070"
      },
      "source": [
        "data = np.arange(24).reshape(4,6)\n",
        "columns = [\"지역\", \"2015\", \"2010\", \"2005\", \"2000\", \"2010-2015 증가율\"]\n",
        "index = [\"서울\", \"부산\", \"인천\", \"대구\"]\n",
        "df2 = pd.DataFrame(data, index=index, columns=columns)\n",
        "df2"
      ],
      "execution_count": 11,
      "outputs": [
        {
          "output_type": "execute_result",
          "data": {
            "text/html": [
              "<div>\n",
              "<style scoped>\n",
              "    .dataframe tbody tr th:only-of-type {\n",
              "        vertical-align: middle;\n",
              "    }\n",
              "\n",
              "    .dataframe tbody tr th {\n",
              "        vertical-align: top;\n",
              "    }\n",
              "\n",
              "    .dataframe thead th {\n",
              "        text-align: right;\n",
              "    }\n",
              "</style>\n",
              "<table border=\"1\" class=\"dataframe\">\n",
              "  <thead>\n",
              "    <tr style=\"text-align: right;\">\n",
              "      <th></th>\n",
              "      <th>지역</th>\n",
              "      <th>2015</th>\n",
              "      <th>2010</th>\n",
              "      <th>2005</th>\n",
              "      <th>2000</th>\n",
              "      <th>2010-2015 증가율</th>\n",
              "    </tr>\n",
              "  </thead>\n",
              "  <tbody>\n",
              "    <tr>\n",
              "      <th>서울</th>\n",
              "      <td>0</td>\n",
              "      <td>1</td>\n",
              "      <td>2</td>\n",
              "      <td>3</td>\n",
              "      <td>4</td>\n",
              "      <td>5</td>\n",
              "    </tr>\n",
              "    <tr>\n",
              "      <th>부산</th>\n",
              "      <td>6</td>\n",
              "      <td>7</td>\n",
              "      <td>8</td>\n",
              "      <td>9</td>\n",
              "      <td>10</td>\n",
              "      <td>11</td>\n",
              "    </tr>\n",
              "    <tr>\n",
              "      <th>인천</th>\n",
              "      <td>12</td>\n",
              "      <td>13</td>\n",
              "      <td>14</td>\n",
              "      <td>15</td>\n",
              "      <td>16</td>\n",
              "      <td>17</td>\n",
              "    </tr>\n",
              "    <tr>\n",
              "      <th>대구</th>\n",
              "      <td>18</td>\n",
              "      <td>19</td>\n",
              "      <td>20</td>\n",
              "      <td>21</td>\n",
              "      <td>22</td>\n",
              "      <td>23</td>\n",
              "    </tr>\n",
              "  </tbody>\n",
              "</table>\n",
              "</div>"
            ],
            "text/plain": [
              "    지역  2015  2010  2005  2000  2010-2015 증가율\n",
              "서울   0     1     2     3     4              5\n",
              "부산   6     7     8     9    10             11\n",
              "인천  12    13    14    15    16             17\n",
              "대구  18    19    20    21    22             23"
            ]
          },
          "metadata": {
            "tags": []
          },
          "execution_count": 11
        }
      ]
    },
    {
      "cell_type": "code",
      "metadata": {
        "colab": {
          "base_uri": "https://localhost:8080/"
        },
        "id": "gfuwBymEZ8qZ",
        "outputId": "e447925e-4977-4464-b4be-d8b5b9d2dac2"
      },
      "source": [
        "df.지역.values"
      ],
      "execution_count": 10,
      "outputs": [
        {
          "output_type": "execute_result",
          "data": {
            "text/plain": [
              "array(['수도권', '경상권', '수도권', '경상권'], dtype=object)"
            ]
          },
          "metadata": {
            "tags": []
          },
          "execution_count": 10
        }
      ]
    },
    {
      "cell_type": "code",
      "metadata": {
        "colab": {
          "base_uri": "https://localhost:8080/"
        },
        "id": "O_7MIRh6aNOG",
        "outputId": "ce04bc78-4662-4a4d-8264-b25399dd3ef9"
      },
      "source": [
        "df['2015'].values"
      ],
      "execution_count": 12,
      "outputs": [
        {
          "output_type": "execute_result",
          "data": {
            "text/plain": [
              "array([9904312, 3448737, 2890451, 2466052])"
            ]
          },
          "metadata": {
            "tags": []
          },
          "execution_count": 12
        }
      ]
    },
    {
      "cell_type": "code",
      "metadata": {
        "colab": {
          "base_uri": "https://localhost:8080/"
        },
        "id": "AZ99fFWQaYAK",
        "outputId": "8bc3ae2c-87b7-4257-e5fe-318d5fef7dac"
      },
      "source": [
        "df.columns"
      ],
      "execution_count": 13,
      "outputs": [
        {
          "output_type": "execute_result",
          "data": {
            "text/plain": [
              "Index(['지역', '2015', '2010', '2005', '2000', '2010-2015 증가율'], dtype='object')"
            ]
          },
          "metadata": {
            "tags": []
          },
          "execution_count": 13
        }
      ]
    },
    {
      "cell_type": "code",
      "metadata": {
        "colab": {
          "base_uri": "https://localhost:8080/",
          "height": 203
        },
        "id": "xngOi3XKaaXS",
        "outputId": "9a244c4a-c258-4f6a-e5d7-2e65804afd70"
      },
      "source": [
        "df.index.name = '도시'\n",
        "df.columns.name = '특성'\n",
        "df"
      ],
      "execution_count": 14,
      "outputs": [
        {
          "output_type": "execute_result",
          "data": {
            "text/html": [
              "<div>\n",
              "<style scoped>\n",
              "    .dataframe tbody tr th:only-of-type {\n",
              "        vertical-align: middle;\n",
              "    }\n",
              "\n",
              "    .dataframe tbody tr th {\n",
              "        vertical-align: top;\n",
              "    }\n",
              "\n",
              "    .dataframe thead th {\n",
              "        text-align: right;\n",
              "    }\n",
              "</style>\n",
              "<table border=\"1\" class=\"dataframe\">\n",
              "  <thead>\n",
              "    <tr style=\"text-align: right;\">\n",
              "      <th>특성</th>\n",
              "      <th>지역</th>\n",
              "      <th>2015</th>\n",
              "      <th>2010</th>\n",
              "      <th>2005</th>\n",
              "      <th>2000</th>\n",
              "      <th>2010-2015 증가율</th>\n",
              "    </tr>\n",
              "    <tr>\n",
              "      <th>도시</th>\n",
              "      <th></th>\n",
              "      <th></th>\n",
              "      <th></th>\n",
              "      <th></th>\n",
              "      <th></th>\n",
              "      <th></th>\n",
              "    </tr>\n",
              "  </thead>\n",
              "  <tbody>\n",
              "    <tr>\n",
              "      <th>서울</th>\n",
              "      <td>수도권</td>\n",
              "      <td>9904312</td>\n",
              "      <td>9631482</td>\n",
              "      <td>9762546</td>\n",
              "      <td>9853972</td>\n",
              "      <td>0.0283</td>\n",
              "    </tr>\n",
              "    <tr>\n",
              "      <th>부산</th>\n",
              "      <td>경상권</td>\n",
              "      <td>3448737</td>\n",
              "      <td>3393191</td>\n",
              "      <td>3512547</td>\n",
              "      <td>3655437</td>\n",
              "      <td>0.0163</td>\n",
              "    </tr>\n",
              "    <tr>\n",
              "      <th>인천</th>\n",
              "      <td>수도권</td>\n",
              "      <td>2890451</td>\n",
              "      <td>2632035</td>\n",
              "      <td>2517680</td>\n",
              "      <td>2466338</td>\n",
              "      <td>0.0982</td>\n",
              "    </tr>\n",
              "    <tr>\n",
              "      <th>대구</th>\n",
              "      <td>경상권</td>\n",
              "      <td>2466052</td>\n",
              "      <td>2431774</td>\n",
              "      <td>2456016</td>\n",
              "      <td>2473990</td>\n",
              "      <td>0.0141</td>\n",
              "    </tr>\n",
              "  </tbody>\n",
              "</table>\n",
              "</div>"
            ],
            "text/plain": [
              "특성   지역     2015     2010     2005     2000  2010-2015 증가율\n",
              "도시                                                        \n",
              "서울  수도권  9904312  9631482  9762546  9853972         0.0283\n",
              "부산  경상권  3448737  3393191  3512547  3655437         0.0163\n",
              "인천  수도권  2890451  2632035  2517680  2466338         0.0982\n",
              "대구  경상권  2466052  2431774  2456016  2473990         0.0141"
            ]
          },
          "metadata": {
            "tags": []
          },
          "execution_count": 14
        }
      ]
    },
    {
      "cell_type": "code",
      "metadata": {
        "colab": {
          "base_uri": "https://localhost:8080/",
          "height": 265
        },
        "id": "ncRlOZz2aj3O",
        "outputId": "cc09f86e-7440-4988-ffd7-e41538f61104"
      },
      "source": [
        "# 전치\n",
        "df.T"
      ],
      "execution_count": 15,
      "outputs": [
        {
          "output_type": "execute_result",
          "data": {
            "text/html": [
              "<div>\n",
              "<style scoped>\n",
              "    .dataframe tbody tr th:only-of-type {\n",
              "        vertical-align: middle;\n",
              "    }\n",
              "\n",
              "    .dataframe tbody tr th {\n",
              "        vertical-align: top;\n",
              "    }\n",
              "\n",
              "    .dataframe thead th {\n",
              "        text-align: right;\n",
              "    }\n",
              "</style>\n",
              "<table border=\"1\" class=\"dataframe\">\n",
              "  <thead>\n",
              "    <tr style=\"text-align: right;\">\n",
              "      <th>도시</th>\n",
              "      <th>서울</th>\n",
              "      <th>부산</th>\n",
              "      <th>인천</th>\n",
              "      <th>대구</th>\n",
              "    </tr>\n",
              "    <tr>\n",
              "      <th>특성</th>\n",
              "      <th></th>\n",
              "      <th></th>\n",
              "      <th></th>\n",
              "      <th></th>\n",
              "    </tr>\n",
              "  </thead>\n",
              "  <tbody>\n",
              "    <tr>\n",
              "      <th>지역</th>\n",
              "      <td>수도권</td>\n",
              "      <td>경상권</td>\n",
              "      <td>수도권</td>\n",
              "      <td>경상권</td>\n",
              "    </tr>\n",
              "    <tr>\n",
              "      <th>2015</th>\n",
              "      <td>9904312</td>\n",
              "      <td>3448737</td>\n",
              "      <td>2890451</td>\n",
              "      <td>2466052</td>\n",
              "    </tr>\n",
              "    <tr>\n",
              "      <th>2010</th>\n",
              "      <td>9631482</td>\n",
              "      <td>3393191</td>\n",
              "      <td>2632035</td>\n",
              "      <td>2431774</td>\n",
              "    </tr>\n",
              "    <tr>\n",
              "      <th>2005</th>\n",
              "      <td>9762546</td>\n",
              "      <td>3512547</td>\n",
              "      <td>2517680</td>\n",
              "      <td>2456016</td>\n",
              "    </tr>\n",
              "    <tr>\n",
              "      <th>2000</th>\n",
              "      <td>9853972</td>\n",
              "      <td>3655437</td>\n",
              "      <td>2466338</td>\n",
              "      <td>2473990</td>\n",
              "    </tr>\n",
              "    <tr>\n",
              "      <th>2010-2015 증가율</th>\n",
              "      <td>0.0283</td>\n",
              "      <td>0.0163</td>\n",
              "      <td>0.0982</td>\n",
              "      <td>0.0141</td>\n",
              "    </tr>\n",
              "  </tbody>\n",
              "</table>\n",
              "</div>"
            ],
            "text/plain": [
              "도시                  서울       부산       인천       대구\n",
              "특성                                               \n",
              "지역                 수도권      경상권      수도권      경상권\n",
              "2015           9904312  3448737  2890451  2466052\n",
              "2010           9631482  3393191  2632035  2431774\n",
              "2005           9762546  3512547  2517680  2456016\n",
              "2000           9853972  3655437  2466338  2473990\n",
              "2010-2015 증가율   0.0283   0.0163   0.0982   0.0141"
            ]
          },
          "metadata": {
            "tags": []
          },
          "execution_count": 15
        }
      ]
    },
    {
      "cell_type": "markdown",
      "metadata": {
        "id": "0NZ2cOs3a3Ox"
      },
      "source": [
        "### 열 데이터의 갱신, 추가, 삭제"
      ]
    },
    {
      "cell_type": "code",
      "metadata": {
        "colab": {
          "base_uri": "https://localhost:8080/",
          "height": 203
        },
        "id": "qpRs7VGHarFD",
        "outputId": "9b65c074-2e17-41e4-c9d4-b41bb701ee78"
      },
      "source": [
        "df['2010-2015 증가율'] = df['2010-2015 증가율'] * 100\n",
        "df"
      ],
      "execution_count": 16,
      "outputs": [
        {
          "output_type": "execute_result",
          "data": {
            "text/html": [
              "<div>\n",
              "<style scoped>\n",
              "    .dataframe tbody tr th:only-of-type {\n",
              "        vertical-align: middle;\n",
              "    }\n",
              "\n",
              "    .dataframe tbody tr th {\n",
              "        vertical-align: top;\n",
              "    }\n",
              "\n",
              "    .dataframe thead th {\n",
              "        text-align: right;\n",
              "    }\n",
              "</style>\n",
              "<table border=\"1\" class=\"dataframe\">\n",
              "  <thead>\n",
              "    <tr style=\"text-align: right;\">\n",
              "      <th>특성</th>\n",
              "      <th>지역</th>\n",
              "      <th>2015</th>\n",
              "      <th>2010</th>\n",
              "      <th>2005</th>\n",
              "      <th>2000</th>\n",
              "      <th>2010-2015 증가율</th>\n",
              "    </tr>\n",
              "    <tr>\n",
              "      <th>도시</th>\n",
              "      <th></th>\n",
              "      <th></th>\n",
              "      <th></th>\n",
              "      <th></th>\n",
              "      <th></th>\n",
              "      <th></th>\n",
              "    </tr>\n",
              "  </thead>\n",
              "  <tbody>\n",
              "    <tr>\n",
              "      <th>서울</th>\n",
              "      <td>수도권</td>\n",
              "      <td>9904312</td>\n",
              "      <td>9631482</td>\n",
              "      <td>9762546</td>\n",
              "      <td>9853972</td>\n",
              "      <td>2.83</td>\n",
              "    </tr>\n",
              "    <tr>\n",
              "      <th>부산</th>\n",
              "      <td>경상권</td>\n",
              "      <td>3448737</td>\n",
              "      <td>3393191</td>\n",
              "      <td>3512547</td>\n",
              "      <td>3655437</td>\n",
              "      <td>1.63</td>\n",
              "    </tr>\n",
              "    <tr>\n",
              "      <th>인천</th>\n",
              "      <td>수도권</td>\n",
              "      <td>2890451</td>\n",
              "      <td>2632035</td>\n",
              "      <td>2517680</td>\n",
              "      <td>2466338</td>\n",
              "      <td>9.82</td>\n",
              "    </tr>\n",
              "    <tr>\n",
              "      <th>대구</th>\n",
              "      <td>경상권</td>\n",
              "      <td>2466052</td>\n",
              "      <td>2431774</td>\n",
              "      <td>2456016</td>\n",
              "      <td>2473990</td>\n",
              "      <td>1.41</td>\n",
              "    </tr>\n",
              "  </tbody>\n",
              "</table>\n",
              "</div>"
            ],
            "text/plain": [
              "특성   지역     2015     2010     2005     2000  2010-2015 증가율\n",
              "도시                                                        \n",
              "서울  수도권  9904312  9631482  9762546  9853972           2.83\n",
              "부산  경상권  3448737  3393191  3512547  3655437           1.63\n",
              "인천  수도권  2890451  2632035  2517680  2466338           9.82\n",
              "대구  경상권  2466052  2431774  2456016  2473990           1.41"
            ]
          },
          "metadata": {
            "tags": []
          },
          "execution_count": 16
        }
      ]
    },
    {
      "cell_type": "code",
      "metadata": {
        "colab": {
          "base_uri": "https://localhost:8080/",
          "height": 203
        },
        "id": "Nnlf71CRbbML",
        "outputId": "5875c16e-9b30-4958-c53b-c2b0e5686de3"
      },
      "source": [
        "df['2020'] = [1, 2, 3, 4]\n",
        "df"
      ],
      "execution_count": 17,
      "outputs": [
        {
          "output_type": "execute_result",
          "data": {
            "text/html": [
              "<div>\n",
              "<style scoped>\n",
              "    .dataframe tbody tr th:only-of-type {\n",
              "        vertical-align: middle;\n",
              "    }\n",
              "\n",
              "    .dataframe tbody tr th {\n",
              "        vertical-align: top;\n",
              "    }\n",
              "\n",
              "    .dataframe thead th {\n",
              "        text-align: right;\n",
              "    }\n",
              "</style>\n",
              "<table border=\"1\" class=\"dataframe\">\n",
              "  <thead>\n",
              "    <tr style=\"text-align: right;\">\n",
              "      <th>특성</th>\n",
              "      <th>지역</th>\n",
              "      <th>2015</th>\n",
              "      <th>2010</th>\n",
              "      <th>2005</th>\n",
              "      <th>2000</th>\n",
              "      <th>2010-2015 증가율</th>\n",
              "      <th>2020</th>\n",
              "    </tr>\n",
              "    <tr>\n",
              "      <th>도시</th>\n",
              "      <th></th>\n",
              "      <th></th>\n",
              "      <th></th>\n",
              "      <th></th>\n",
              "      <th></th>\n",
              "      <th></th>\n",
              "      <th></th>\n",
              "    </tr>\n",
              "  </thead>\n",
              "  <tbody>\n",
              "    <tr>\n",
              "      <th>서울</th>\n",
              "      <td>수도권</td>\n",
              "      <td>9904312</td>\n",
              "      <td>9631482</td>\n",
              "      <td>9762546</td>\n",
              "      <td>9853972</td>\n",
              "      <td>2.83</td>\n",
              "      <td>1</td>\n",
              "    </tr>\n",
              "    <tr>\n",
              "      <th>부산</th>\n",
              "      <td>경상권</td>\n",
              "      <td>3448737</td>\n",
              "      <td>3393191</td>\n",
              "      <td>3512547</td>\n",
              "      <td>3655437</td>\n",
              "      <td>1.63</td>\n",
              "      <td>2</td>\n",
              "    </tr>\n",
              "    <tr>\n",
              "      <th>인천</th>\n",
              "      <td>수도권</td>\n",
              "      <td>2890451</td>\n",
              "      <td>2632035</td>\n",
              "      <td>2517680</td>\n",
              "      <td>2466338</td>\n",
              "      <td>9.82</td>\n",
              "      <td>3</td>\n",
              "    </tr>\n",
              "    <tr>\n",
              "      <th>대구</th>\n",
              "      <td>경상권</td>\n",
              "      <td>2466052</td>\n",
              "      <td>2431774</td>\n",
              "      <td>2456016</td>\n",
              "      <td>2473990</td>\n",
              "      <td>1.41</td>\n",
              "      <td>4</td>\n",
              "    </tr>\n",
              "  </tbody>\n",
              "</table>\n",
              "</div>"
            ],
            "text/plain": [
              "특성   지역     2015     2010     2005     2000  2010-2015 증가율  2020\n",
              "도시                                                              \n",
              "서울  수도권  9904312  9631482  9762546  9853972           2.83     1\n",
              "부산  경상권  3448737  3393191  3512547  3655437           1.63     2\n",
              "인천  수도권  2890451  2632035  2517680  2466338           9.82     3\n",
              "대구  경상권  2466052  2431774  2456016  2473990           1.41     4"
            ]
          },
          "metadata": {
            "tags": []
          },
          "execution_count": 17
        }
      ]
    },
    {
      "cell_type": "code",
      "metadata": {
        "id": "5xtKpXbwbmnA"
      },
      "source": [
        "del df['2020']"
      ],
      "execution_count": 18,
      "outputs": []
    },
    {
      "cell_type": "code",
      "metadata": {
        "colab": {
          "base_uri": "https://localhost:8080/",
          "height": 203
        },
        "id": "jWnxbucob2SU",
        "outputId": "69a94e72-e8d0-4a1c-8f64-b0a63a8a68fa"
      },
      "source": [
        "df"
      ],
      "execution_count": 19,
      "outputs": [
        {
          "output_type": "execute_result",
          "data": {
            "text/html": [
              "<div>\n",
              "<style scoped>\n",
              "    .dataframe tbody tr th:only-of-type {\n",
              "        vertical-align: middle;\n",
              "    }\n",
              "\n",
              "    .dataframe tbody tr th {\n",
              "        vertical-align: top;\n",
              "    }\n",
              "\n",
              "    .dataframe thead th {\n",
              "        text-align: right;\n",
              "    }\n",
              "</style>\n",
              "<table border=\"1\" class=\"dataframe\">\n",
              "  <thead>\n",
              "    <tr style=\"text-align: right;\">\n",
              "      <th>특성</th>\n",
              "      <th>지역</th>\n",
              "      <th>2015</th>\n",
              "      <th>2010</th>\n",
              "      <th>2005</th>\n",
              "      <th>2000</th>\n",
              "      <th>2010-2015 증가율</th>\n",
              "    </tr>\n",
              "    <tr>\n",
              "      <th>도시</th>\n",
              "      <th></th>\n",
              "      <th></th>\n",
              "      <th></th>\n",
              "      <th></th>\n",
              "      <th></th>\n",
              "      <th></th>\n",
              "    </tr>\n",
              "  </thead>\n",
              "  <tbody>\n",
              "    <tr>\n",
              "      <th>서울</th>\n",
              "      <td>수도권</td>\n",
              "      <td>9904312</td>\n",
              "      <td>9631482</td>\n",
              "      <td>9762546</td>\n",
              "      <td>9853972</td>\n",
              "      <td>2.83</td>\n",
              "    </tr>\n",
              "    <tr>\n",
              "      <th>부산</th>\n",
              "      <td>경상권</td>\n",
              "      <td>3448737</td>\n",
              "      <td>3393191</td>\n",
              "      <td>3512547</td>\n",
              "      <td>3655437</td>\n",
              "      <td>1.63</td>\n",
              "    </tr>\n",
              "    <tr>\n",
              "      <th>인천</th>\n",
              "      <td>수도권</td>\n",
              "      <td>2890451</td>\n",
              "      <td>2632035</td>\n",
              "      <td>2517680</td>\n",
              "      <td>2466338</td>\n",
              "      <td>9.82</td>\n",
              "    </tr>\n",
              "    <tr>\n",
              "      <th>대구</th>\n",
              "      <td>경상권</td>\n",
              "      <td>2466052</td>\n",
              "      <td>2431774</td>\n",
              "      <td>2456016</td>\n",
              "      <td>2473990</td>\n",
              "      <td>1.41</td>\n",
              "    </tr>\n",
              "  </tbody>\n",
              "</table>\n",
              "</div>"
            ],
            "text/plain": [
              "특성   지역     2015     2010     2005     2000  2010-2015 증가율\n",
              "도시                                                        \n",
              "서울  수도권  9904312  9631482  9762546  9853972           2.83\n",
              "부산  경상권  3448737  3393191  3512547  3655437           1.63\n",
              "인천  수도권  2890451  2632035  2517680  2466338           9.82\n",
              "대구  경상권  2466052  2431774  2456016  2473990           1.41"
            ]
          },
          "metadata": {
            "tags": []
          },
          "execution_count": 19
        }
      ]
    },
    {
      "cell_type": "markdown",
      "metadata": {
        "id": "PyFj0_o-caSP"
      },
      "source": [
        "### 열 인덱싱"
      ]
    },
    {
      "cell_type": "code",
      "metadata": {
        "colab": {
          "base_uri": "https://localhost:8080/"
        },
        "id": "w-3hTifyb3EP",
        "outputId": "54c0311c-10d5-44c2-d224-1c4f3dca6346"
      },
      "source": [
        "df['지역']  # 결과는 Series"
      ],
      "execution_count": 20,
      "outputs": [
        {
          "output_type": "execute_result",
          "data": {
            "text/plain": [
              "도시\n",
              "서울    수도권\n",
              "부산    경상권\n",
              "인천    수도권\n",
              "대구    경상권\n",
              "Name: 지역, dtype: object"
            ]
          },
          "metadata": {
            "tags": []
          },
          "execution_count": 20
        }
      ]
    },
    {
      "cell_type": "code",
      "metadata": {
        "colab": {
          "base_uri": "https://localhost:8080/",
          "height": 203
        },
        "id": "OCfxgCuHcdrz",
        "outputId": "b9bff580-328d-4dee-9374-458352a7d646"
      },
      "source": [
        "df[['지역', '2015']]  # 결과는 DataFrame"
      ],
      "execution_count": 21,
      "outputs": [
        {
          "output_type": "execute_result",
          "data": {
            "text/html": [
              "<div>\n",
              "<style scoped>\n",
              "    .dataframe tbody tr th:only-of-type {\n",
              "        vertical-align: middle;\n",
              "    }\n",
              "\n",
              "    .dataframe tbody tr th {\n",
              "        vertical-align: top;\n",
              "    }\n",
              "\n",
              "    .dataframe thead th {\n",
              "        text-align: right;\n",
              "    }\n",
              "</style>\n",
              "<table border=\"1\" class=\"dataframe\">\n",
              "  <thead>\n",
              "    <tr style=\"text-align: right;\">\n",
              "      <th>특성</th>\n",
              "      <th>지역</th>\n",
              "      <th>2015</th>\n",
              "    </tr>\n",
              "    <tr>\n",
              "      <th>도시</th>\n",
              "      <th></th>\n",
              "      <th></th>\n",
              "    </tr>\n",
              "  </thead>\n",
              "  <tbody>\n",
              "    <tr>\n",
              "      <th>서울</th>\n",
              "      <td>수도권</td>\n",
              "      <td>9904312</td>\n",
              "    </tr>\n",
              "    <tr>\n",
              "      <th>부산</th>\n",
              "      <td>경상권</td>\n",
              "      <td>3448737</td>\n",
              "    </tr>\n",
              "    <tr>\n",
              "      <th>인천</th>\n",
              "      <td>수도권</td>\n",
              "      <td>2890451</td>\n",
              "    </tr>\n",
              "    <tr>\n",
              "      <th>대구</th>\n",
              "      <td>경상권</td>\n",
              "      <td>2466052</td>\n",
              "    </tr>\n",
              "  </tbody>\n",
              "</table>\n",
              "</div>"
            ],
            "text/plain": [
              "특성   지역     2015\n",
              "도시              \n",
              "서울  수도권  9904312\n",
              "부산  경상권  3448737\n",
              "인천  수도권  2890451\n",
              "대구  경상권  2466052"
            ]
          },
          "metadata": {
            "tags": []
          },
          "execution_count": 21
        }
      ]
    },
    {
      "cell_type": "code",
      "metadata": {
        "colab": {
          "base_uri": "https://localhost:8080/",
          "height": 203
        },
        "id": "PSJy4_kvclT9",
        "outputId": "0b6157f2-699c-4cba-f801-c0a7c965ae61"
      },
      "source": [
        "df[['지역']]  # 결과는 DataFrame"
      ],
      "execution_count": 22,
      "outputs": [
        {
          "output_type": "execute_result",
          "data": {
            "text/html": [
              "<div>\n",
              "<style scoped>\n",
              "    .dataframe tbody tr th:only-of-type {\n",
              "        vertical-align: middle;\n",
              "    }\n",
              "\n",
              "    .dataframe tbody tr th {\n",
              "        vertical-align: top;\n",
              "    }\n",
              "\n",
              "    .dataframe thead th {\n",
              "        text-align: right;\n",
              "    }\n",
              "</style>\n",
              "<table border=\"1\" class=\"dataframe\">\n",
              "  <thead>\n",
              "    <tr style=\"text-align: right;\">\n",
              "      <th>특성</th>\n",
              "      <th>지역</th>\n",
              "    </tr>\n",
              "    <tr>\n",
              "      <th>도시</th>\n",
              "      <th></th>\n",
              "    </tr>\n",
              "  </thead>\n",
              "  <tbody>\n",
              "    <tr>\n",
              "      <th>서울</th>\n",
              "      <td>수도권</td>\n",
              "    </tr>\n",
              "    <tr>\n",
              "      <th>부산</th>\n",
              "      <td>경상권</td>\n",
              "    </tr>\n",
              "    <tr>\n",
              "      <th>인천</th>\n",
              "      <td>수도권</td>\n",
              "    </tr>\n",
              "    <tr>\n",
              "      <th>대구</th>\n",
              "      <td>경상권</td>\n",
              "    </tr>\n",
              "  </tbody>\n",
              "</table>\n",
              "</div>"
            ],
            "text/plain": [
              "특성   지역\n",
              "도시     \n",
              "서울  수도권\n",
              "부산  경상권\n",
              "인천  수도권\n",
              "대구  경상권"
            ]
          },
          "metadata": {
            "tags": []
          },
          "execution_count": 22
        }
      ]
    },
    {
      "cell_type": "code",
      "metadata": {
        "colab": {
          "base_uri": "https://localhost:8080/"
        },
        "id": "kxObYyy_csTA",
        "outputId": "90966d4f-3d5b-4e97-f42e-fb594f396a5b"
      },
      "source": [
        "type(df['지역']), type(df[['지역']])"
      ],
      "execution_count": 23,
      "outputs": [
        {
          "output_type": "execute_result",
          "data": {
            "text/plain": [
              "(pandas.core.series.Series, pandas.core.frame.DataFrame)"
            ]
          },
          "metadata": {
            "tags": []
          },
          "execution_count": 23
        }
      ]
    },
    {
      "cell_type": "markdown",
      "metadata": {
        "id": "pds1F5eLdRJi"
      },
      "source": [
        "### 행 인덱싱"
      ]
    },
    {
      "cell_type": "code",
      "metadata": {
        "colab": {
          "base_uri": "https://localhost:8080/",
          "height": 110
        },
        "id": "midtpv5scxmP",
        "outputId": "4cc9437b-da6a-4edd-b25e-6664657ed352"
      },
      "source": [
        "df[:'서울']"
      ],
      "execution_count": 24,
      "outputs": [
        {
          "output_type": "execute_result",
          "data": {
            "text/html": [
              "<div>\n",
              "<style scoped>\n",
              "    .dataframe tbody tr th:only-of-type {\n",
              "        vertical-align: middle;\n",
              "    }\n",
              "\n",
              "    .dataframe tbody tr th {\n",
              "        vertical-align: top;\n",
              "    }\n",
              "\n",
              "    .dataframe thead th {\n",
              "        text-align: right;\n",
              "    }\n",
              "</style>\n",
              "<table border=\"1\" class=\"dataframe\">\n",
              "  <thead>\n",
              "    <tr style=\"text-align: right;\">\n",
              "      <th>특성</th>\n",
              "      <th>지역</th>\n",
              "      <th>2015</th>\n",
              "      <th>2010</th>\n",
              "      <th>2005</th>\n",
              "      <th>2000</th>\n",
              "      <th>2010-2015 증가율</th>\n",
              "    </tr>\n",
              "    <tr>\n",
              "      <th>도시</th>\n",
              "      <th></th>\n",
              "      <th></th>\n",
              "      <th></th>\n",
              "      <th></th>\n",
              "      <th></th>\n",
              "      <th></th>\n",
              "    </tr>\n",
              "  </thead>\n",
              "  <tbody>\n",
              "    <tr>\n",
              "      <th>서울</th>\n",
              "      <td>수도권</td>\n",
              "      <td>9904312</td>\n",
              "      <td>9631482</td>\n",
              "      <td>9762546</td>\n",
              "      <td>9853972</td>\n",
              "      <td>2.83</td>\n",
              "    </tr>\n",
              "  </tbody>\n",
              "</table>\n",
              "</div>"
            ],
            "text/plain": [
              "특성   지역     2015     2010     2005     2000  2010-2015 증가율\n",
              "도시                                                        \n",
              "서울  수도권  9904312  9631482  9762546  9853972           2.83"
            ]
          },
          "metadata": {
            "tags": []
          },
          "execution_count": 24
        }
      ]
    },
    {
      "cell_type": "code",
      "metadata": {
        "colab": {
          "base_uri": "https://localhost:8080/",
          "height": 110
        },
        "id": "1n0aV2tLdVoF",
        "outputId": "557e7db9-759d-43e3-b05d-3fff9d1d9aa1"
      },
      "source": [
        "df[1:2]"
      ],
      "execution_count": 25,
      "outputs": [
        {
          "output_type": "execute_result",
          "data": {
            "text/html": [
              "<div>\n",
              "<style scoped>\n",
              "    .dataframe tbody tr th:only-of-type {\n",
              "        vertical-align: middle;\n",
              "    }\n",
              "\n",
              "    .dataframe tbody tr th {\n",
              "        vertical-align: top;\n",
              "    }\n",
              "\n",
              "    .dataframe thead th {\n",
              "        text-align: right;\n",
              "    }\n",
              "</style>\n",
              "<table border=\"1\" class=\"dataframe\">\n",
              "  <thead>\n",
              "    <tr style=\"text-align: right;\">\n",
              "      <th>특성</th>\n",
              "      <th>지역</th>\n",
              "      <th>2015</th>\n",
              "      <th>2010</th>\n",
              "      <th>2005</th>\n",
              "      <th>2000</th>\n",
              "      <th>2010-2015 증가율</th>\n",
              "    </tr>\n",
              "    <tr>\n",
              "      <th>도시</th>\n",
              "      <th></th>\n",
              "      <th></th>\n",
              "      <th></th>\n",
              "      <th></th>\n",
              "      <th></th>\n",
              "      <th></th>\n",
              "    </tr>\n",
              "  </thead>\n",
              "  <tbody>\n",
              "    <tr>\n",
              "      <th>부산</th>\n",
              "      <td>경상권</td>\n",
              "      <td>3448737</td>\n",
              "      <td>3393191</td>\n",
              "      <td>3512547</td>\n",
              "      <td>3655437</td>\n",
              "      <td>1.63</td>\n",
              "    </tr>\n",
              "  </tbody>\n",
              "</table>\n",
              "</div>"
            ],
            "text/plain": [
              "특성   지역     2015     2010     2005     2000  2010-2015 증가율\n",
              "도시                                                        \n",
              "부산  경상권  3448737  3393191  3512547  3655437           1.63"
            ]
          },
          "metadata": {
            "tags": []
          },
          "execution_count": 25
        }
      ]
    },
    {
      "cell_type": "code",
      "metadata": {
        "colab": {
          "base_uri": "https://localhost:8080/",
          "height": 142
        },
        "id": "H5tIK8apdb-1",
        "outputId": "c9646f57-4150-4a99-a6c2-1617df9c6dcc"
      },
      "source": [
        "df['부산':'인천']"
      ],
      "execution_count": 26,
      "outputs": [
        {
          "output_type": "execute_result",
          "data": {
            "text/html": [
              "<div>\n",
              "<style scoped>\n",
              "    .dataframe tbody tr th:only-of-type {\n",
              "        vertical-align: middle;\n",
              "    }\n",
              "\n",
              "    .dataframe tbody tr th {\n",
              "        vertical-align: top;\n",
              "    }\n",
              "\n",
              "    .dataframe thead th {\n",
              "        text-align: right;\n",
              "    }\n",
              "</style>\n",
              "<table border=\"1\" class=\"dataframe\">\n",
              "  <thead>\n",
              "    <tr style=\"text-align: right;\">\n",
              "      <th>특성</th>\n",
              "      <th>지역</th>\n",
              "      <th>2015</th>\n",
              "      <th>2010</th>\n",
              "      <th>2005</th>\n",
              "      <th>2000</th>\n",
              "      <th>2010-2015 증가율</th>\n",
              "    </tr>\n",
              "    <tr>\n",
              "      <th>도시</th>\n",
              "      <th></th>\n",
              "      <th></th>\n",
              "      <th></th>\n",
              "      <th></th>\n",
              "      <th></th>\n",
              "      <th></th>\n",
              "    </tr>\n",
              "  </thead>\n",
              "  <tbody>\n",
              "    <tr>\n",
              "      <th>부산</th>\n",
              "      <td>경상권</td>\n",
              "      <td>3448737</td>\n",
              "      <td>3393191</td>\n",
              "      <td>3512547</td>\n",
              "      <td>3655437</td>\n",
              "      <td>1.63</td>\n",
              "    </tr>\n",
              "    <tr>\n",
              "      <th>인천</th>\n",
              "      <td>수도권</td>\n",
              "      <td>2890451</td>\n",
              "      <td>2632035</td>\n",
              "      <td>2517680</td>\n",
              "      <td>2466338</td>\n",
              "      <td>9.82</td>\n",
              "    </tr>\n",
              "  </tbody>\n",
              "</table>\n",
              "</div>"
            ],
            "text/plain": [
              "특성   지역     2015     2010     2005     2000  2010-2015 증가율\n",
              "도시                                                        \n",
              "부산  경상권  3448737  3393191  3512547  3655437           1.63\n",
              "인천  수도권  2890451  2632035  2517680  2466338           9.82"
            ]
          },
          "metadata": {
            "tags": []
          },
          "execution_count": 26
        }
      ]
    },
    {
      "cell_type": "code",
      "metadata": {
        "colab": {
          "base_uri": "https://localhost:8080/",
          "height": 172
        },
        "id": "AW3uhepHdovq",
        "outputId": "e8bf7aa4-ab5e-4087-fd5e-2e4735767281"
      },
      "source": [
        "df.head(3)"
      ],
      "execution_count": 27,
      "outputs": [
        {
          "output_type": "execute_result",
          "data": {
            "text/html": [
              "<div>\n",
              "<style scoped>\n",
              "    .dataframe tbody tr th:only-of-type {\n",
              "        vertical-align: middle;\n",
              "    }\n",
              "\n",
              "    .dataframe tbody tr th {\n",
              "        vertical-align: top;\n",
              "    }\n",
              "\n",
              "    .dataframe thead th {\n",
              "        text-align: right;\n",
              "    }\n",
              "</style>\n",
              "<table border=\"1\" class=\"dataframe\">\n",
              "  <thead>\n",
              "    <tr style=\"text-align: right;\">\n",
              "      <th>특성</th>\n",
              "      <th>지역</th>\n",
              "      <th>2015</th>\n",
              "      <th>2010</th>\n",
              "      <th>2005</th>\n",
              "      <th>2000</th>\n",
              "      <th>2010-2015 증가율</th>\n",
              "    </tr>\n",
              "    <tr>\n",
              "      <th>도시</th>\n",
              "      <th></th>\n",
              "      <th></th>\n",
              "      <th></th>\n",
              "      <th></th>\n",
              "      <th></th>\n",
              "      <th></th>\n",
              "    </tr>\n",
              "  </thead>\n",
              "  <tbody>\n",
              "    <tr>\n",
              "      <th>서울</th>\n",
              "      <td>수도권</td>\n",
              "      <td>9904312</td>\n",
              "      <td>9631482</td>\n",
              "      <td>9762546</td>\n",
              "      <td>9853972</td>\n",
              "      <td>2.83</td>\n",
              "    </tr>\n",
              "    <tr>\n",
              "      <th>부산</th>\n",
              "      <td>경상권</td>\n",
              "      <td>3448737</td>\n",
              "      <td>3393191</td>\n",
              "      <td>3512547</td>\n",
              "      <td>3655437</td>\n",
              "      <td>1.63</td>\n",
              "    </tr>\n",
              "    <tr>\n",
              "      <th>인천</th>\n",
              "      <td>수도권</td>\n",
              "      <td>2890451</td>\n",
              "      <td>2632035</td>\n",
              "      <td>2517680</td>\n",
              "      <td>2466338</td>\n",
              "      <td>9.82</td>\n",
              "    </tr>\n",
              "  </tbody>\n",
              "</table>\n",
              "</div>"
            ],
            "text/plain": [
              "특성   지역     2015     2010     2005     2000  2010-2015 증가율\n",
              "도시                                                        \n",
              "서울  수도권  9904312  9631482  9762546  9853972           2.83\n",
              "부산  경상권  3448737  3393191  3512547  3655437           1.63\n",
              "인천  수도권  2890451  2632035  2517680  2466338           9.82"
            ]
          },
          "metadata": {
            "tags": []
          },
          "execution_count": 27
        }
      ]
    },
    {
      "cell_type": "markdown",
      "metadata": {
        "id": "DvOEIzNpeNzn"
      },
      "source": [
        "## 개별 데이터 인덱싱\n",
        "- df['열 이름']['행 이름']"
      ]
    },
    {
      "cell_type": "code",
      "metadata": {
        "colab": {
          "base_uri": "https://localhost:8080/"
        },
        "id": "hQ1ZzuYoeMhp",
        "outputId": "93e60838-0340-4fef-c68c-255cc4b1afd5"
      },
      "source": [
        "df['2015']['서울'], df['2015'][0]"
      ],
      "execution_count": 28,
      "outputs": [
        {
          "output_type": "execute_result",
          "data": {
            "text/plain": [
              "(9904312, 9904312)"
            ]
          },
          "metadata": {
            "tags": []
          },
          "execution_count": 28
        }
      ]
    },
    {
      "cell_type": "markdown",
      "metadata": {
        "id": "9_beSqxwe4Fo"
      },
      "source": [
        "### 연습 문제 4.1.3"
      ]
    },
    {
      "cell_type": "code",
      "metadata": {
        "id": "xHoKSsWleo2c"
      },
      "source": [
        "data = {\n",
        "    \"국어\": [80, 90, 70, 30],\n",
        "    \"영어\": [90, 70, 60, 40],\n",
        "    \"수학\": [90, 60, 80, 70],\n",
        "}\n",
        "columns = [\"국어\", \"영어\", \"수학\"]\n",
        "index = [\"춘향\", \"몽룡\", \"향단\", \"방자\"]\n",
        "df = pd.DataFrame(data, index=index, columns=columns)"
      ],
      "execution_count": null,
      "outputs": []
    },
    {
      "cell_type": "code",
      "metadata": {
        "colab": {
          "base_uri": "https://localhost:8080/"
        },
        "id": "7DfmxzJNe_K9",
        "outputId": "fe70b06d-5122-4844-b0e8-c30dc6bedf38"
      },
      "source": [
        "# 1) 모든 학생의 수학 점수를 시리즈로 나타낸다.\n",
        "df['수학']"
      ],
      "execution_count": null,
      "outputs": [
        {
          "output_type": "execute_result",
          "data": {
            "text/plain": [
              "춘향    90\n",
              "몽룡    60\n",
              "향단    80\n",
              "방자    70\n",
              "Name: 수학, dtype: int64"
            ]
          },
          "metadata": {
            "tags": []
          },
          "execution_count": 34
        }
      ]
    },
    {
      "cell_type": "code",
      "metadata": {
        "colab": {
          "base_uri": "https://localhost:8080/",
          "height": 172
        },
        "id": "9GEXCfBrfEgr",
        "outputId": "d1e7da4f-1f96-41de-84fc-94a988467a12"
      },
      "source": [
        "# 2) 모든 학생의 국어와 영어 점수를 데이터 프레임으로 나타낸다.\n",
        "df[['국어', '영어']]"
      ],
      "execution_count": null,
      "outputs": [
        {
          "output_type": "execute_result",
          "data": {
            "text/html": [
              "<div>\n",
              "<style scoped>\n",
              "    .dataframe tbody tr th:only-of-type {\n",
              "        vertical-align: middle;\n",
              "    }\n",
              "\n",
              "    .dataframe tbody tr th {\n",
              "        vertical-align: top;\n",
              "    }\n",
              "\n",
              "    .dataframe thead th {\n",
              "        text-align: right;\n",
              "    }\n",
              "</style>\n",
              "<table border=\"1\" class=\"dataframe\">\n",
              "  <thead>\n",
              "    <tr style=\"text-align: right;\">\n",
              "      <th></th>\n",
              "      <th>국어</th>\n",
              "      <th>영어</th>\n",
              "    </tr>\n",
              "  </thead>\n",
              "  <tbody>\n",
              "    <tr>\n",
              "      <th>춘향</th>\n",
              "      <td>80</td>\n",
              "      <td>90</td>\n",
              "    </tr>\n",
              "    <tr>\n",
              "      <th>몽룡</th>\n",
              "      <td>90</td>\n",
              "      <td>70</td>\n",
              "    </tr>\n",
              "    <tr>\n",
              "      <th>향단</th>\n",
              "      <td>70</td>\n",
              "      <td>60</td>\n",
              "    </tr>\n",
              "    <tr>\n",
              "      <th>방자</th>\n",
              "      <td>30</td>\n",
              "      <td>40</td>\n",
              "    </tr>\n",
              "  </tbody>\n",
              "</table>\n",
              "</div>"
            ],
            "text/plain": [
              "    국어  영어\n",
              "춘향  80  90\n",
              "몽룡  90  70\n",
              "향단  70  60\n",
              "방자  30  40"
            ]
          },
          "metadata": {
            "tags": []
          },
          "execution_count": 38
        }
      ]
    },
    {
      "cell_type": "code",
      "metadata": {
        "colab": {
          "base_uri": "https://localhost:8080/"
        },
        "id": "ZS6zePoTfQbc",
        "outputId": "e60e8253-6622-4111-9648-6ef5b29acf87"
      },
      "source": [
        "# 3) 모든 학생의 각 과목 평균 점수를 새로운 열로 추가한다.\n",
        "df.values"
      ],
      "execution_count": null,
      "outputs": [
        {
          "output_type": "execute_result",
          "data": {
            "text/plain": [
              "array([[80, 90, 90],\n",
              "       [90, 70, 60],\n",
              "       [70, 60, 80],\n",
              "       [30, 40, 70]])"
            ]
          },
          "metadata": {
            "tags": []
          },
          "execution_count": 39
        }
      ]
    },
    {
      "cell_type": "code",
      "metadata": {
        "colab": {
          "base_uri": "https://localhost:8080/"
        },
        "id": "Urvqjepwf6K9",
        "outputId": "c9c8ea54-b5b6-47f3-a8e2-88a9a302edf9"
      },
      "source": [
        "np.mean(df.values, axis=1).round(1)"
      ],
      "execution_count": null,
      "outputs": [
        {
          "output_type": "execute_result",
          "data": {
            "text/plain": [
              "array([86.7, 73.3, 70. , 46.7])"
            ]
          },
          "metadata": {
            "tags": []
          },
          "execution_count": 41
        }
      ]
    },
    {
      "cell_type": "code",
      "metadata": {
        "colab": {
          "base_uri": "https://localhost:8080/",
          "height": 172
        },
        "id": "P1iK4rlagEAh",
        "outputId": "9a8ce160-25a4-46bf-f68a-6990a53cbf90"
      },
      "source": [
        "df['평균'] = np.mean(df.values, axis=1).round(1)\n",
        "df"
      ],
      "execution_count": null,
      "outputs": [
        {
          "output_type": "execute_result",
          "data": {
            "text/html": [
              "<div>\n",
              "<style scoped>\n",
              "    .dataframe tbody tr th:only-of-type {\n",
              "        vertical-align: middle;\n",
              "    }\n",
              "\n",
              "    .dataframe tbody tr th {\n",
              "        vertical-align: top;\n",
              "    }\n",
              "\n",
              "    .dataframe thead th {\n",
              "        text-align: right;\n",
              "    }\n",
              "</style>\n",
              "<table border=\"1\" class=\"dataframe\">\n",
              "  <thead>\n",
              "    <tr style=\"text-align: right;\">\n",
              "      <th></th>\n",
              "      <th>국어</th>\n",
              "      <th>영어</th>\n",
              "      <th>수학</th>\n",
              "      <th>평균</th>\n",
              "    </tr>\n",
              "  </thead>\n",
              "  <tbody>\n",
              "    <tr>\n",
              "      <th>춘향</th>\n",
              "      <td>80</td>\n",
              "      <td>90</td>\n",
              "      <td>90</td>\n",
              "      <td>86.7</td>\n",
              "    </tr>\n",
              "    <tr>\n",
              "      <th>몽룡</th>\n",
              "      <td>90</td>\n",
              "      <td>70</td>\n",
              "      <td>60</td>\n",
              "      <td>73.3</td>\n",
              "    </tr>\n",
              "    <tr>\n",
              "      <th>향단</th>\n",
              "      <td>70</td>\n",
              "      <td>60</td>\n",
              "      <td>80</td>\n",
              "      <td>70.0</td>\n",
              "    </tr>\n",
              "    <tr>\n",
              "      <th>방자</th>\n",
              "      <td>30</td>\n",
              "      <td>40</td>\n",
              "      <td>70</td>\n",
              "      <td>46.7</td>\n",
              "    </tr>\n",
              "  </tbody>\n",
              "</table>\n",
              "</div>"
            ],
            "text/plain": [
              "    국어  영어  수학    평균\n",
              "춘향  80  90  90  86.7\n",
              "몽룡  90  70  60  73.3\n",
              "향단  70  60  80  70.0\n",
              "방자  30  40  70  46.7"
            ]
          },
          "metadata": {
            "tags": []
          },
          "execution_count": 42
        }
      ]
    },
    {
      "cell_type": "code",
      "metadata": {
        "colab": {
          "base_uri": "https://localhost:8080/",
          "height": 172
        },
        "id": "wPsxnxI3gNs9",
        "outputId": "406c5dba-615d-44bc-898d-2bc3c0af9f53"
      },
      "source": [
        "# 4) 방자의 영어 점수를 80점으로 수정하고 평균 점수도 나시 계산한다.\n",
        "del df['평균']\n",
        "df.영어[3] = 80\n",
        "df['평균'] = np.round(df.mean(axis=1), 1)\n",
        "df"
      ],
      "execution_count": null,
      "outputs": [
        {
          "output_type": "execute_result",
          "data": {
            "text/html": [
              "<div>\n",
              "<style scoped>\n",
              "    .dataframe tbody tr th:only-of-type {\n",
              "        vertical-align: middle;\n",
              "    }\n",
              "\n",
              "    .dataframe tbody tr th {\n",
              "        vertical-align: top;\n",
              "    }\n",
              "\n",
              "    .dataframe thead th {\n",
              "        text-align: right;\n",
              "    }\n",
              "</style>\n",
              "<table border=\"1\" class=\"dataframe\">\n",
              "  <thead>\n",
              "    <tr style=\"text-align: right;\">\n",
              "      <th></th>\n",
              "      <th>국어</th>\n",
              "      <th>영어</th>\n",
              "      <th>수학</th>\n",
              "      <th>평균</th>\n",
              "    </tr>\n",
              "  </thead>\n",
              "  <tbody>\n",
              "    <tr>\n",
              "      <th>춘향</th>\n",
              "      <td>80</td>\n",
              "      <td>90</td>\n",
              "      <td>90</td>\n",
              "      <td>86.7</td>\n",
              "    </tr>\n",
              "    <tr>\n",
              "      <th>몽룡</th>\n",
              "      <td>90</td>\n",
              "      <td>70</td>\n",
              "      <td>60</td>\n",
              "      <td>73.3</td>\n",
              "    </tr>\n",
              "    <tr>\n",
              "      <th>향단</th>\n",
              "      <td>70</td>\n",
              "      <td>60</td>\n",
              "      <td>80</td>\n",
              "      <td>70.0</td>\n",
              "    </tr>\n",
              "    <tr>\n",
              "      <th>방자</th>\n",
              "      <td>30</td>\n",
              "      <td>80</td>\n",
              "      <td>70</td>\n",
              "      <td>60.0</td>\n",
              "    </tr>\n",
              "  </tbody>\n",
              "</table>\n",
              "</div>"
            ],
            "text/plain": [
              "    국어  영어  수학    평균\n",
              "춘향  80  90  90  86.7\n",
              "몽룡  90  70  60  73.3\n",
              "향단  70  60  80  70.0\n",
              "방자  30  80  70  60.0"
            ]
          },
          "metadata": {
            "tags": []
          },
          "execution_count": 44
        }
      ]
    },
    {
      "cell_type": "code",
      "metadata": {
        "colab": {
          "base_uri": "https://localhost:8080/",
          "height": 80
        },
        "id": "Ag_pGYZqhG3q",
        "outputId": "5a1e4694-3373-4c96-fe4e-b83c4c37433b"
      },
      "source": [
        "# 5) 춘향의 점수를 데이터프레임으로\n",
        "df[:'춘향']"
      ],
      "execution_count": null,
      "outputs": [
        {
          "output_type": "execute_result",
          "data": {
            "text/html": [
              "<div>\n",
              "<style scoped>\n",
              "    .dataframe tbody tr th:only-of-type {\n",
              "        vertical-align: middle;\n",
              "    }\n",
              "\n",
              "    .dataframe tbody tr th {\n",
              "        vertical-align: top;\n",
              "    }\n",
              "\n",
              "    .dataframe thead th {\n",
              "        text-align: right;\n",
              "    }\n",
              "</style>\n",
              "<table border=\"1\" class=\"dataframe\">\n",
              "  <thead>\n",
              "    <tr style=\"text-align: right;\">\n",
              "      <th></th>\n",
              "      <th>국어</th>\n",
              "      <th>영어</th>\n",
              "      <th>수학</th>\n",
              "      <th>평균</th>\n",
              "    </tr>\n",
              "  </thead>\n",
              "  <tbody>\n",
              "    <tr>\n",
              "      <th>춘향</th>\n",
              "      <td>80</td>\n",
              "      <td>90</td>\n",
              "      <td>90</td>\n",
              "      <td>86.7</td>\n",
              "    </tr>\n",
              "  </tbody>\n",
              "</table>\n",
              "</div>"
            ],
            "text/plain": [
              "    국어  영어  수학    평균\n",
              "춘향  80  90  90  86.7"
            ]
          },
          "metadata": {
            "tags": []
          },
          "execution_count": 45
        }
      ]
    },
    {
      "cell_type": "code",
      "metadata": {
        "colab": {
          "base_uri": "https://localhost:8080/",
          "height": 80
        },
        "id": "CyRX7X1Fh6Rq",
        "outputId": "5abbf035-eec3-466f-f8c3-4c53796f2a2b"
      },
      "source": [
        "df.head(1)"
      ],
      "execution_count": null,
      "outputs": [
        {
          "output_type": "execute_result",
          "data": {
            "text/html": [
              "<div>\n",
              "<style scoped>\n",
              "    .dataframe tbody tr th:only-of-type {\n",
              "        vertical-align: middle;\n",
              "    }\n",
              "\n",
              "    .dataframe tbody tr th {\n",
              "        vertical-align: top;\n",
              "    }\n",
              "\n",
              "    .dataframe thead th {\n",
              "        text-align: right;\n",
              "    }\n",
              "</style>\n",
              "<table border=\"1\" class=\"dataframe\">\n",
              "  <thead>\n",
              "    <tr style=\"text-align: right;\">\n",
              "      <th></th>\n",
              "      <th>국어</th>\n",
              "      <th>영어</th>\n",
              "      <th>수학</th>\n",
              "      <th>평균</th>\n",
              "    </tr>\n",
              "  </thead>\n",
              "  <tbody>\n",
              "    <tr>\n",
              "      <th>춘향</th>\n",
              "      <td>80</td>\n",
              "      <td>90</td>\n",
              "      <td>90</td>\n",
              "      <td>86.7</td>\n",
              "    </tr>\n",
              "  </tbody>\n",
              "</table>\n",
              "</div>"
            ],
            "text/plain": [
              "    국어  영어  수학    평균\n",
              "춘향  80  90  90  86.7"
            ]
          },
          "metadata": {
            "tags": []
          },
          "execution_count": 46
        }
      ]
    },
    {
      "cell_type": "code",
      "metadata": {
        "colab": {
          "base_uri": "https://localhost:8080/",
          "height": 172
        },
        "id": "DFOZbQ56h8Xo",
        "outputId": "8d2ada3d-99b4-4e82-84f9-fa529e0f4fe0"
      },
      "source": [
        "df.T[['춘향']]"
      ],
      "execution_count": null,
      "outputs": [
        {
          "output_type": "execute_result",
          "data": {
            "text/html": [
              "<div>\n",
              "<style scoped>\n",
              "    .dataframe tbody tr th:only-of-type {\n",
              "        vertical-align: middle;\n",
              "    }\n",
              "\n",
              "    .dataframe tbody tr th {\n",
              "        vertical-align: top;\n",
              "    }\n",
              "\n",
              "    .dataframe thead th {\n",
              "        text-align: right;\n",
              "    }\n",
              "</style>\n",
              "<table border=\"1\" class=\"dataframe\">\n",
              "  <thead>\n",
              "    <tr style=\"text-align: right;\">\n",
              "      <th></th>\n",
              "      <th>춘향</th>\n",
              "    </tr>\n",
              "  </thead>\n",
              "  <tbody>\n",
              "    <tr>\n",
              "      <th>국어</th>\n",
              "      <td>80.0</td>\n",
              "    </tr>\n",
              "    <tr>\n",
              "      <th>영어</th>\n",
              "      <td>90.0</td>\n",
              "    </tr>\n",
              "    <tr>\n",
              "      <th>수학</th>\n",
              "      <td>90.0</td>\n",
              "    </tr>\n",
              "    <tr>\n",
              "      <th>평균</th>\n",
              "      <td>86.7</td>\n",
              "    </tr>\n",
              "  </tbody>\n",
              "</table>\n",
              "</div>"
            ],
            "text/plain": [
              "      춘향\n",
              "국어  80.0\n",
              "영어  90.0\n",
              "수학  90.0\n",
              "평균  86.7"
            ]
          },
          "metadata": {
            "tags": []
          },
          "execution_count": 47
        }
      ]
    },
    {
      "cell_type": "code",
      "metadata": {
        "colab": {
          "base_uri": "https://localhost:8080/",
          "height": 110
        },
        "id": "766CBbEUh_MB",
        "outputId": "c4d656a3-bbc8-4685-d610-9cc6ce95606a"
      },
      "source": [
        "# 중간에 있는 두 행 꺼내오기\n",
        "df.head(3).tail(2)"
      ],
      "execution_count": null,
      "outputs": [
        {
          "output_type": "execute_result",
          "data": {
            "text/html": [
              "<div>\n",
              "<style scoped>\n",
              "    .dataframe tbody tr th:only-of-type {\n",
              "        vertical-align: middle;\n",
              "    }\n",
              "\n",
              "    .dataframe tbody tr th {\n",
              "        vertical-align: top;\n",
              "    }\n",
              "\n",
              "    .dataframe thead th {\n",
              "        text-align: right;\n",
              "    }\n",
              "</style>\n",
              "<table border=\"1\" class=\"dataframe\">\n",
              "  <thead>\n",
              "    <tr style=\"text-align: right;\">\n",
              "      <th></th>\n",
              "      <th>국어</th>\n",
              "      <th>영어</th>\n",
              "      <th>수학</th>\n",
              "      <th>평균</th>\n",
              "    </tr>\n",
              "  </thead>\n",
              "  <tbody>\n",
              "    <tr>\n",
              "      <th>몽룡</th>\n",
              "      <td>90</td>\n",
              "      <td>70</td>\n",
              "      <td>60</td>\n",
              "      <td>73.3</td>\n",
              "    </tr>\n",
              "    <tr>\n",
              "      <th>향단</th>\n",
              "      <td>70</td>\n",
              "      <td>60</td>\n",
              "      <td>80</td>\n",
              "      <td>70.0</td>\n",
              "    </tr>\n",
              "  </tbody>\n",
              "</table>\n",
              "</div>"
            ],
            "text/plain": [
              "    국어  영어  수학    평균\n",
              "몽룡  90  70  60  73.3\n",
              "향단  70  60  80  70.0"
            ]
          },
          "metadata": {
            "tags": []
          },
          "execution_count": 48
        }
      ]
    },
    {
      "cell_type": "code",
      "metadata": {
        "colab": {
          "base_uri": "https://localhost:8080/"
        },
        "id": "OI6SHjaHi_MG",
        "outputId": "73f24e59-080d-42c1-ecd3-971bd45234ad"
      },
      "source": [
        "# 6) 향단의 점수를 시리즈로 나타낸다.\n",
        "df.T['향단']"
      ],
      "execution_count": null,
      "outputs": [
        {
          "output_type": "execute_result",
          "data": {
            "text/plain": [
              "국어    70.0\n",
              "영어    60.0\n",
              "수학    80.0\n",
              "평균    70.0\n",
              "Name: 향단, dtype: float64"
            ]
          },
          "metadata": {
            "tags": []
          },
          "execution_count": 49
        }
      ]
    },
    {
      "cell_type": "code",
      "metadata": {
        "id": "GuQwMeT8jDJ0"
      },
      "source": [
        ""
      ],
      "execution_count": null,
      "outputs": []
    }
  ]
}